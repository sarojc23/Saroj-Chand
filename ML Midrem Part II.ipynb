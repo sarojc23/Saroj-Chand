{
 "cells": [
  {
   "cell_type": "markdown",
   "metadata": {},
   "source": [
    "### Importing libraries and data"
   ]
  },
  {
   "cell_type": "code",
   "execution_count": 1,
   "metadata": {},
   "outputs": [],
   "source": [
    "import numpy as np\n",
    "import pandas as pd\n",
    "import matplotlib.pyplot as plt\n",
    "import seaborn as sns\n",
    "%matplotlib inline\n",
    "import warnings\n",
    "warnings.filterwarnings(\"ignore\")"
   ]
  },
  {
   "cell_type": "code",
   "execution_count": 2,
   "metadata": {
    "scrolled": true
   },
   "outputs": [
    {
     "data": {
      "text/html": [
       "<div>\n",
       "<style scoped>\n",
       "    .dataframe tbody tr th:only-of-type {\n",
       "        vertical-align: middle;\n",
       "    }\n",
       "\n",
       "    .dataframe tbody tr th {\n",
       "        vertical-align: top;\n",
       "    }\n",
       "\n",
       "    .dataframe thead th {\n",
       "        text-align: right;\n",
       "    }\n",
       "</style>\n",
       "<table border=\"1\" class=\"dataframe\">\n",
       "  <thead>\n",
       "    <tr style=\"text-align: right;\">\n",
       "      <th></th>\n",
       "      <th>customerID</th>\n",
       "      <th>gender</th>\n",
       "      <th>SeniorCitizen</th>\n",
       "      <th>Partner</th>\n",
       "      <th>Dependents</th>\n",
       "      <th>tenure</th>\n",
       "      <th>PhoneService</th>\n",
       "      <th>MultipleLines</th>\n",
       "      <th>InternetService</th>\n",
       "      <th>OnlineSecurity</th>\n",
       "      <th>...</th>\n",
       "      <th>DeviceProtection</th>\n",
       "      <th>TechSupport</th>\n",
       "      <th>StreamingTV</th>\n",
       "      <th>StreamingMovies</th>\n",
       "      <th>Contract</th>\n",
       "      <th>PaperlessBilling</th>\n",
       "      <th>PaymentMethod</th>\n",
       "      <th>MonthlyCharges</th>\n",
       "      <th>TotalCharges</th>\n",
       "      <th>Churn</th>\n",
       "    </tr>\n",
       "  </thead>\n",
       "  <tbody>\n",
       "    <tr>\n",
       "      <td>0</td>\n",
       "      <td>7590-VHVEG</td>\n",
       "      <td>Female</td>\n",
       "      <td>0</td>\n",
       "      <td>Yes</td>\n",
       "      <td>No</td>\n",
       "      <td>1</td>\n",
       "      <td>No</td>\n",
       "      <td>No phone service</td>\n",
       "      <td>DSL</td>\n",
       "      <td>No</td>\n",
       "      <td>...</td>\n",
       "      <td>No</td>\n",
       "      <td>No</td>\n",
       "      <td>No</td>\n",
       "      <td>No</td>\n",
       "      <td>Month-to-month</td>\n",
       "      <td>Yes</td>\n",
       "      <td>Electronic check</td>\n",
       "      <td>29.85</td>\n",
       "      <td>29.85</td>\n",
       "      <td>No</td>\n",
       "    </tr>\n",
       "    <tr>\n",
       "      <td>1</td>\n",
       "      <td>5575-GNVDE</td>\n",
       "      <td>Male</td>\n",
       "      <td>0</td>\n",
       "      <td>No</td>\n",
       "      <td>No</td>\n",
       "      <td>34</td>\n",
       "      <td>Yes</td>\n",
       "      <td>No</td>\n",
       "      <td>DSL</td>\n",
       "      <td>Yes</td>\n",
       "      <td>...</td>\n",
       "      <td>Yes</td>\n",
       "      <td>No</td>\n",
       "      <td>No</td>\n",
       "      <td>No</td>\n",
       "      <td>One year</td>\n",
       "      <td>No</td>\n",
       "      <td>Mailed check</td>\n",
       "      <td>56.95</td>\n",
       "      <td>1889.50</td>\n",
       "      <td>No</td>\n",
       "    </tr>\n",
       "    <tr>\n",
       "      <td>2</td>\n",
       "      <td>3668-QPYBK</td>\n",
       "      <td>Male</td>\n",
       "      <td>0</td>\n",
       "      <td>No</td>\n",
       "      <td>No</td>\n",
       "      <td>2</td>\n",
       "      <td>Yes</td>\n",
       "      <td>No</td>\n",
       "      <td>DSL</td>\n",
       "      <td>Yes</td>\n",
       "      <td>...</td>\n",
       "      <td>No</td>\n",
       "      <td>No</td>\n",
       "      <td>No</td>\n",
       "      <td>No</td>\n",
       "      <td>Month-to-month</td>\n",
       "      <td>Yes</td>\n",
       "      <td>Mailed check</td>\n",
       "      <td>53.85</td>\n",
       "      <td>108.15</td>\n",
       "      <td>Yes</td>\n",
       "    </tr>\n",
       "    <tr>\n",
       "      <td>3</td>\n",
       "      <td>7795-CFOCW</td>\n",
       "      <td>Male</td>\n",
       "      <td>0</td>\n",
       "      <td>No</td>\n",
       "      <td>No</td>\n",
       "      <td>45</td>\n",
       "      <td>No</td>\n",
       "      <td>No phone service</td>\n",
       "      <td>DSL</td>\n",
       "      <td>Yes</td>\n",
       "      <td>...</td>\n",
       "      <td>Yes</td>\n",
       "      <td>Yes</td>\n",
       "      <td>No</td>\n",
       "      <td>No</td>\n",
       "      <td>One year</td>\n",
       "      <td>No</td>\n",
       "      <td>Bank transfer (automatic)</td>\n",
       "      <td>42.30</td>\n",
       "      <td>1840.75</td>\n",
       "      <td>No</td>\n",
       "    </tr>\n",
       "    <tr>\n",
       "      <td>4</td>\n",
       "      <td>9237-HQITU</td>\n",
       "      <td>Female</td>\n",
       "      <td>0</td>\n",
       "      <td>No</td>\n",
       "      <td>No</td>\n",
       "      <td>2</td>\n",
       "      <td>Yes</td>\n",
       "      <td>No</td>\n",
       "      <td>Fiber optic</td>\n",
       "      <td>No</td>\n",
       "      <td>...</td>\n",
       "      <td>No</td>\n",
       "      <td>No</td>\n",
       "      <td>No</td>\n",
       "      <td>No</td>\n",
       "      <td>Month-to-month</td>\n",
       "      <td>Yes</td>\n",
       "      <td>Electronic check</td>\n",
       "      <td>70.70</td>\n",
       "      <td>151.65</td>\n",
       "      <td>Yes</td>\n",
       "    </tr>\n",
       "  </tbody>\n",
       "</table>\n",
       "<p>5 rows × 21 columns</p>\n",
       "</div>"
      ],
      "text/plain": [
       "   customerID  gender  SeniorCitizen Partner Dependents  tenure PhoneService  \\\n",
       "0  7590-VHVEG  Female              0     Yes         No       1           No   \n",
       "1  5575-GNVDE    Male              0      No         No      34          Yes   \n",
       "2  3668-QPYBK    Male              0      No         No       2          Yes   \n",
       "3  7795-CFOCW    Male              0      No         No      45           No   \n",
       "4  9237-HQITU  Female              0      No         No       2          Yes   \n",
       "\n",
       "      MultipleLines InternetService OnlineSecurity  ... DeviceProtection  \\\n",
       "0  No phone service             DSL             No  ...               No   \n",
       "1                No             DSL            Yes  ...              Yes   \n",
       "2                No             DSL            Yes  ...               No   \n",
       "3  No phone service             DSL            Yes  ...              Yes   \n",
       "4                No     Fiber optic             No  ...               No   \n",
       "\n",
       "  TechSupport StreamingTV StreamingMovies        Contract PaperlessBilling  \\\n",
       "0          No          No              No  Month-to-month              Yes   \n",
       "1          No          No              No        One year               No   \n",
       "2          No          No              No  Month-to-month              Yes   \n",
       "3         Yes          No              No        One year               No   \n",
       "4          No          No              No  Month-to-month              Yes   \n",
       "\n",
       "               PaymentMethod MonthlyCharges  TotalCharges  Churn  \n",
       "0           Electronic check          29.85         29.85     No  \n",
       "1               Mailed check          56.95       1889.50     No  \n",
       "2               Mailed check          53.85        108.15    Yes  \n",
       "3  Bank transfer (automatic)          42.30       1840.75     No  \n",
       "4           Electronic check          70.70        151.65    Yes  \n",
       "\n",
       "[5 rows x 21 columns]"
      ]
     },
     "execution_count": 2,
     "metadata": {},
     "output_type": "execute_result"
    }
   ],
   "source": [
    "\n",
    "df = pd.read_csv(\"/Users/schand/Documents/ML Homework 1/WA_Fn-UseC_-Telco-Customer-Churn 2.csv\")\n",
    "#\n",
    "df['TotalCharges'] = pd.to_numeric(df['TotalCharges'],errors = 'coerce')\n",
    "df.head()"
   ]
  },
  {
   "cell_type": "code",
   "execution_count": 3,
   "metadata": {
    "scrolled": false
   },
   "outputs": [
    {
     "data": {
      "text/html": [
       "<div>\n",
       "<style scoped>\n",
       "    .dataframe tbody tr th:only-of-type {\n",
       "        vertical-align: middle;\n",
       "    }\n",
       "\n",
       "    .dataframe tbody tr th {\n",
       "        vertical-align: top;\n",
       "    }\n",
       "\n",
       "    .dataframe thead th {\n",
       "        text-align: right;\n",
       "    }\n",
       "</style>\n",
       "<table border=\"1\" class=\"dataframe\">\n",
       "  <thead>\n",
       "    <tr style=\"text-align: right;\">\n",
       "      <th></th>\n",
       "      <th>gender</th>\n",
       "      <th>SeniorCitizen</th>\n",
       "      <th>Partner</th>\n",
       "      <th>Dependents</th>\n",
       "      <th>tenure</th>\n",
       "      <th>PhoneService</th>\n",
       "      <th>MultipleLines</th>\n",
       "      <th>InternetService</th>\n",
       "      <th>OnlineSecurity</th>\n",
       "      <th>OnlineBackup</th>\n",
       "      <th>DeviceProtection</th>\n",
       "      <th>TechSupport</th>\n",
       "      <th>StreamingTV</th>\n",
       "      <th>StreamingMovies</th>\n",
       "      <th>Contract</th>\n",
       "      <th>PaperlessBilling</th>\n",
       "      <th>PaymentMethod</th>\n",
       "      <th>MonthlyCharges</th>\n",
       "      <th>TotalCharges</th>\n",
       "      <th>Churn</th>\n",
       "    </tr>\n",
       "  </thead>\n",
       "  <tbody>\n",
       "    <tr>\n",
       "      <td>0</td>\n",
       "      <td>Female</td>\n",
       "      <td>0</td>\n",
       "      <td>Yes</td>\n",
       "      <td>No</td>\n",
       "      <td>1</td>\n",
       "      <td>No</td>\n",
       "      <td>No phone service</td>\n",
       "      <td>DSL</td>\n",
       "      <td>No</td>\n",
       "      <td>Yes</td>\n",
       "      <td>No</td>\n",
       "      <td>No</td>\n",
       "      <td>No</td>\n",
       "      <td>No</td>\n",
       "      <td>Month-to-month</td>\n",
       "      <td>Yes</td>\n",
       "      <td>Electronic check</td>\n",
       "      <td>29.85</td>\n",
       "      <td>29.85</td>\n",
       "      <td>No</td>\n",
       "    </tr>\n",
       "    <tr>\n",
       "      <td>1</td>\n",
       "      <td>Male</td>\n",
       "      <td>0</td>\n",
       "      <td>No</td>\n",
       "      <td>No</td>\n",
       "      <td>34</td>\n",
       "      <td>Yes</td>\n",
       "      <td>No</td>\n",
       "      <td>DSL</td>\n",
       "      <td>Yes</td>\n",
       "      <td>No</td>\n",
       "      <td>Yes</td>\n",
       "      <td>No</td>\n",
       "      <td>No</td>\n",
       "      <td>No</td>\n",
       "      <td>One year</td>\n",
       "      <td>No</td>\n",
       "      <td>Mailed check</td>\n",
       "      <td>56.95</td>\n",
       "      <td>1889.50</td>\n",
       "      <td>No</td>\n",
       "    </tr>\n",
       "    <tr>\n",
       "      <td>2</td>\n",
       "      <td>Male</td>\n",
       "      <td>0</td>\n",
       "      <td>No</td>\n",
       "      <td>No</td>\n",
       "      <td>2</td>\n",
       "      <td>Yes</td>\n",
       "      <td>No</td>\n",
       "      <td>DSL</td>\n",
       "      <td>Yes</td>\n",
       "      <td>Yes</td>\n",
       "      <td>No</td>\n",
       "      <td>No</td>\n",
       "      <td>No</td>\n",
       "      <td>No</td>\n",
       "      <td>Month-to-month</td>\n",
       "      <td>Yes</td>\n",
       "      <td>Mailed check</td>\n",
       "      <td>53.85</td>\n",
       "      <td>108.15</td>\n",
       "      <td>Yes</td>\n",
       "    </tr>\n",
       "    <tr>\n",
       "      <td>3</td>\n",
       "      <td>Male</td>\n",
       "      <td>0</td>\n",
       "      <td>No</td>\n",
       "      <td>No</td>\n",
       "      <td>45</td>\n",
       "      <td>No</td>\n",
       "      <td>No phone service</td>\n",
       "      <td>DSL</td>\n",
       "      <td>Yes</td>\n",
       "      <td>No</td>\n",
       "      <td>Yes</td>\n",
       "      <td>Yes</td>\n",
       "      <td>No</td>\n",
       "      <td>No</td>\n",
       "      <td>One year</td>\n",
       "      <td>No</td>\n",
       "      <td>Bank transfer (automatic)</td>\n",
       "      <td>42.30</td>\n",
       "      <td>1840.75</td>\n",
       "      <td>No</td>\n",
       "    </tr>\n",
       "    <tr>\n",
       "      <td>4</td>\n",
       "      <td>Female</td>\n",
       "      <td>0</td>\n",
       "      <td>No</td>\n",
       "      <td>No</td>\n",
       "      <td>2</td>\n",
       "      <td>Yes</td>\n",
       "      <td>No</td>\n",
       "      <td>Fiber optic</td>\n",
       "      <td>No</td>\n",
       "      <td>No</td>\n",
       "      <td>No</td>\n",
       "      <td>No</td>\n",
       "      <td>No</td>\n",
       "      <td>No</td>\n",
       "      <td>Month-to-month</td>\n",
       "      <td>Yes</td>\n",
       "      <td>Electronic check</td>\n",
       "      <td>70.70</td>\n",
       "      <td>151.65</td>\n",
       "      <td>Yes</td>\n",
       "    </tr>\n",
       "  </tbody>\n",
       "</table>\n",
       "</div>"
      ],
      "text/plain": [
       "   gender  SeniorCitizen Partner Dependents  tenure PhoneService  \\\n",
       "0  Female              0     Yes         No       1           No   \n",
       "1    Male              0      No         No      34          Yes   \n",
       "2    Male              0      No         No       2          Yes   \n",
       "3    Male              0      No         No      45           No   \n",
       "4  Female              0      No         No       2          Yes   \n",
       "\n",
       "      MultipleLines InternetService OnlineSecurity OnlineBackup  \\\n",
       "0  No phone service             DSL             No          Yes   \n",
       "1                No             DSL            Yes           No   \n",
       "2                No             DSL            Yes          Yes   \n",
       "3  No phone service             DSL            Yes           No   \n",
       "4                No     Fiber optic             No           No   \n",
       "\n",
       "  DeviceProtection TechSupport StreamingTV StreamingMovies        Contract  \\\n",
       "0               No          No          No              No  Month-to-month   \n",
       "1              Yes          No          No              No        One year   \n",
       "2               No          No          No              No  Month-to-month   \n",
       "3              Yes         Yes          No              No        One year   \n",
       "4               No          No          No              No  Month-to-month   \n",
       "\n",
       "  PaperlessBilling              PaymentMethod  MonthlyCharges  TotalCharges  \\\n",
       "0              Yes           Electronic check           29.85         29.85   \n",
       "1               No               Mailed check           56.95       1889.50   \n",
       "2              Yes               Mailed check           53.85        108.15   \n",
       "3               No  Bank transfer (automatic)           42.30       1840.75   \n",
       "4              Yes           Electronic check           70.70        151.65   \n",
       "\n",
       "  Churn  \n",
       "0    No  \n",
       "1    No  \n",
       "2   Yes  \n",
       "3    No  \n",
       "4   Yes  "
      ]
     },
     "execution_count": 3,
     "metadata": {},
     "output_type": "execute_result"
    }
   ],
   "source": [
    "# dropping customerID which had no significance\n",
    "df = df.drop(['customerID'],axis=1)\n",
    "df = df[df['tenure']!=0]\n",
    "df = df.dropna(axis=0)\n",
    "#df_new = df.series.replace(to_replace=['no', 'yes'], value=[0, 1])\n",
    "df.head()"
   ]
  },
  {
   "cell_type": "code",
   "execution_count": 4,
   "metadata": {
    "scrolled": false
   },
   "outputs": [
    {
     "data": {
      "text/html": [
       "<div>\n",
       "<style scoped>\n",
       "    .dataframe tbody tr th:only-of-type {\n",
       "        vertical-align: middle;\n",
       "    }\n",
       "\n",
       "    .dataframe tbody tr th {\n",
       "        vertical-align: top;\n",
       "    }\n",
       "\n",
       "    .dataframe thead th {\n",
       "        text-align: right;\n",
       "    }\n",
       "</style>\n",
       "<table border=\"1\" class=\"dataframe\">\n",
       "  <thead>\n",
       "    <tr style=\"text-align: right;\">\n",
       "      <th></th>\n",
       "      <th>SeniorCitizen</th>\n",
       "      <th>tenure</th>\n",
       "      <th>MonthlyCharges</th>\n",
       "      <th>TotalCharges</th>\n",
       "    </tr>\n",
       "  </thead>\n",
       "  <tbody>\n",
       "    <tr>\n",
       "      <td>0</td>\n",
       "      <td>0</td>\n",
       "      <td>1</td>\n",
       "      <td>29.85</td>\n",
       "      <td>29.85</td>\n",
       "    </tr>\n",
       "    <tr>\n",
       "      <td>1</td>\n",
       "      <td>0</td>\n",
       "      <td>34</td>\n",
       "      <td>56.95</td>\n",
       "      <td>1889.50</td>\n",
       "    </tr>\n",
       "    <tr>\n",
       "      <td>2</td>\n",
       "      <td>0</td>\n",
       "      <td>2</td>\n",
       "      <td>53.85</td>\n",
       "      <td>108.15</td>\n",
       "    </tr>\n",
       "    <tr>\n",
       "      <td>3</td>\n",
       "      <td>0</td>\n",
       "      <td>45</td>\n",
       "      <td>42.30</td>\n",
       "      <td>1840.75</td>\n",
       "    </tr>\n",
       "    <tr>\n",
       "      <td>4</td>\n",
       "      <td>0</td>\n",
       "      <td>2</td>\n",
       "      <td>70.70</td>\n",
       "      <td>151.65</td>\n",
       "    </tr>\n",
       "  </tbody>\n",
       "</table>\n",
       "</div>"
      ],
      "text/plain": [
       "   SeniorCitizen  tenure  MonthlyCharges  TotalCharges\n",
       "0              0       1           29.85         29.85\n",
       "1              0      34           56.95       1889.50\n",
       "2              0       2           53.85        108.15\n",
       "3              0      45           42.30       1840.75\n",
       "4              0       2           70.70        151.65"
      ]
     },
     "execution_count": 4,
     "metadata": {},
     "output_type": "execute_result"
    }
   ],
   "source": [
    "df_catg = df.select_dtypes(include=['object'])\n",
    "df_num = df.select_dtypes(include=['number'])\n",
    "#df_num = df_num.join(df[['TotalCharges']])\n",
    "df_num.head()"
   ]
  },
  {
   "cell_type": "markdown",
   "metadata": {},
   "source": [
    "#### 1. Visualize the univariate distribution of each input variable and the target variable “churn”."
   ]
  },
  {
   "cell_type": "code",
   "execution_count": 5,
   "metadata": {
    "scrolled": false
   },
   "outputs": [
    {
     "data": {
      "image/png": "[encoded data removed]",
      "text/plain": [
       "<Figure size 432x288 with 1 Axes>"
      ]
     },
     "metadata": {
      "needs_background": "light"
     },
     "output_type": "display_data"
    },
    {
     "data": {
      "image/png": "[encoded data removed]",
      "text/plain": [
       "<Figure size 432x288 with 1 Axes>"
      ]
     },
     "metadata": {
      "needs_background": "light"
     },
     "output_type": "display_data"
    },
    {
     "data": {
      "image/png": "[encoded data removed]",
      "text/plain": [
       "<Figure size 432x288 with 1 Axes>"
      ]
     },
     "metadata": {
      "needs_background": "light"
     },
     "output_type": "display_data"
    },
    {
     "data": {
      "image/png": "[encoded data removed]",
      "text/plain": [
       "<Figure size 432x288 with 1 Axes>"
      ]
     },
     "metadata": {
      "needs_background": "light"
     },
     "output_type": "display_data"
    },
    {
     "data": {
      "image/png": "[encoded data removed]",
      "text/plain": [
       "<Figure size 432x288 with 1 Axes>"
      ]
     },
     "metadata": {
      "needs_background": "light"
     },
     "output_type": "display_data"
    },
    {
     "data": {
      "image/png": "[encoded data removed]",
      "text/plain": [
       "<Figure size 432x288 with 1 Axes>"
      ]
     },
     "metadata": {
      "needs_background": "light"
     },
     "output_type": "display_data"
    },
    {
     "data": {
      "image/png": "[encoded data removed]",
      "text/plain": [
       "<Figure size 432x288 with 1 Axes>"
      ]
     },
     "metadata": {
      "needs_background": "light"
     },
     "output_type": "display_data"
    },
    {
     "data": {
      "image/png": "[encoded data removed]",
      "text/plain": [
       "<Figure size 432x288 with 1 Axes>"
      ]
     },
     "metadata": {
      "needs_background": "light"
     },
     "output_type": "display_data"
    },
    {
     "data": {
      "image/png": "[encoded data removed]",
      "text/plain": [
       "<Figure size 432x288 with 1 Axes>"
      ]
     },
     "metadata": {
      "needs_background": "light"
     },
     "output_type": "display_data"
    },
    {
     "data": {
      "image/png": "[encoded data removed]",
      "text/plain": [
       "<Figure size 432x288 with 1 Axes>"
      ]
     },
     "metadata": {
      "needs_background": "light"
     },
     "output_type": "display_data"
    },
    {
     "data": {
      "image/png": "[encoded data removed]",
      "text/plain": [
       "<Figure size 432x288 with 1 Axes>"
      ]
     },
     "metadata": {
      "needs_background": "light"
     },
     "output_type": "display_data"
    },
    {
     "data": {
      "image/png": "[encoded data removed]",
      "text/plain": [
       "<Figure size 432x288 with 1 Axes>"
      ]
     },
     "metadata": {
      "needs_background": "light"
     },
     "output_type": "display_data"
    },
    {
     "data": {
      "image/png": "[encoded data removed]",
      "text/plain": [
       "<Figure size 432x288 with 1 Axes>"
      ]
     },
     "metadata": {
      "needs_background": "light"
     },
     "output_type": "display_data"
    },
    {
     "data": {
      "image/png": "[encoded data removed]",
      "text/plain": [
       "<Figure size 432x288 with 1 Axes>"
      ]
     },
     "metadata": {
      "needs_background": "light"
     },
     "output_type": "display_data"
    },
    {
     "data": {
      "image/png": "[encoded data removed]",
      "text/plain": [
       "<Figure size 432x288 with 1 Axes>"
      ]
     },
     "metadata": {
      "needs_background": "light"
     },
     "output_type": "display_data"
    },
    {
     "data": {
      "image/png": "[encoded data removed]",
      "text/plain": [
       "<Figure size 432x288 with 1 Axes>"
      ]
     },
     "metadata": {
      "needs_background": "light"
     },
     "output_type": "display_data"
    }
   ],
   "source": [
    "for i in range(0,len(df_catg.columns)):\n",
    "    plt.figure();\n",
    "    df_catg.iloc[:,i].value_counts().plot.bar(title = df_catg.columns[i])"
   ]
  },
  {
   "cell_type": "code",
   "execution_count": 6,
   "metadata": {
    "scrolled": false
   },
   "outputs": [
    {
     "data": {
      "text/plain": [
       "array([[<matplotlib.axes._subplots.AxesSubplot object at 0x1a1978ffd0>,\n",
       "        <matplotlib.axes._subplots.AxesSubplot object at 0x1a18c7b890>],\n",
       "       [<matplotlib.axes._subplots.AxesSubplot object at 0x1a192faf50>,\n",
       "        <matplotlib.axes._subplots.AxesSubplot object at 0x1a18a37e50>]],\n",
       "      dtype=object)"
      ]
     },
     "execution_count": 6,
     "metadata": {},
     "output_type": "execute_result"
    },
    {
     "data": {
      "image/png": "[encoded data removed]",
      "text/plain": [
       "<Figure size 864x1152 with 4 Axes>"
      ]
     },
     "metadata": {
      "needs_background": "light"
     },
     "output_type": "display_data"
    }
   ],
   "source": [
    "df_num.hist(figsize = (12,16))"
   ]
  },
  {
   "cell_type": "markdown",
   "metadata": {},
   "source": [
    "#### 2.Split data into training and test sets. Build a pipeline for dealing with categorical variables. Evaluate logistic regression, support vector machines, k-nearest neighbors, and decision trees using cross-validation. How different are the results? How does scaling the numerical features with StandardScaler influence the results?"
   ]
  },
  {
   "cell_type": "code",
   "execution_count": 7,
   "metadata": {
    "scrolled": true
   },
   "outputs": [
    {
     "data": {
      "text/html": [
       "<div>\n",
       "<style scoped>\n",
       "    .dataframe tbody tr th:only-of-type {\n",
       "        vertical-align: middle;\n",
       "    }\n",
       "\n",
       "    .dataframe tbody tr th {\n",
       "        vertical-align: top;\n",
       "    }\n",
       "\n",
       "    .dataframe thead th {\n",
       "        text-align: right;\n",
       "    }\n",
       "</style>\n",
       "<table border=\"1\" class=\"dataframe\">\n",
       "  <thead>\n",
       "    <tr style=\"text-align: right;\">\n",
       "      <th></th>\n",
       "      <th>SeniorCitizen</th>\n",
       "      <th>tenure</th>\n",
       "      <th>MonthlyCharges</th>\n",
       "      <th>TotalCharges</th>\n",
       "    </tr>\n",
       "  </thead>\n",
       "  <tbody>\n",
       "    <tr>\n",
       "      <td>0</td>\n",
       "      <td>0</td>\n",
       "      <td>1</td>\n",
       "      <td>29.85</td>\n",
       "      <td>29.85</td>\n",
       "    </tr>\n",
       "    <tr>\n",
       "      <td>1</td>\n",
       "      <td>0</td>\n",
       "      <td>34</td>\n",
       "      <td>56.95</td>\n",
       "      <td>1889.50</td>\n",
       "    </tr>\n",
       "    <tr>\n",
       "      <td>2</td>\n",
       "      <td>0</td>\n",
       "      <td>2</td>\n",
       "      <td>53.85</td>\n",
       "      <td>108.15</td>\n",
       "    </tr>\n",
       "    <tr>\n",
       "      <td>3</td>\n",
       "      <td>0</td>\n",
       "      <td>45</td>\n",
       "      <td>42.30</td>\n",
       "      <td>1840.75</td>\n",
       "    </tr>\n",
       "    <tr>\n",
       "      <td>4</td>\n",
       "      <td>0</td>\n",
       "      <td>2</td>\n",
       "      <td>70.70</td>\n",
       "      <td>151.65</td>\n",
       "    </tr>\n",
       "  </tbody>\n",
       "</table>\n",
       "</div>"
      ],
      "text/plain": [
       "   SeniorCitizen  tenure  MonthlyCharges  TotalCharges\n",
       "0              0       1           29.85         29.85\n",
       "1              0      34           56.95       1889.50\n",
       "2              0       2           53.85        108.15\n",
       "3              0      45           42.30       1840.75\n",
       "4              0       2           70.70        151.65"
      ]
     },
     "execution_count": 7,
     "metadata": {},
     "output_type": "execute_result"
    }
   ],
   "source": [
    "#Split data in train and test set\n",
    "df_train, df_test = np.split(df, [int(.8*len(df))])\n",
    "df_train_catg = df_train.select_dtypes(include=['object'])\n",
    "df_train_num = df_num.select_dtypes(include=['number'])\n",
    "df_train_catg = df_train_catg.drop(['Churn'],axis=1)\n",
    "df_train_num.head()"
   ]
  },
  {
   "cell_type": "code",
   "execution_count": 8,
   "metadata": {},
   "outputs": [],
   "source": [
    "X_train = df_train.drop(['Churn'],axis = 1)\n",
    "y_train = df_train['Churn']"
   ]
  },
  {
   "cell_type": "code",
   "execution_count": 9,
   "metadata": {},
   "outputs": [],
   "source": [
    "from sklearn.preprocessing import OneHotEncoder, StandardScaler\n",
    "from sklearn.compose import ColumnTransformer\n",
    "from sklearn.model_selection import cross_val_score\n",
    "ct = ColumnTransformer([\n",
    "    ('ohe',OneHotEncoder(),df_train_catg.columns),\n",
    "     ])\n",
    "df_trans = ct.fit_transform(X_train)"
   ]
  },
  {
   "cell_type": "code",
   "execution_count": 10,
   "metadata": {},
   "outputs": [
    {
     "name": "stdout",
     "output_type": "stream",
     "text": [
      "Cross Validation Score for logistic regression is 0.7845333333333333\n"
     ]
    }
   ],
   "source": [
    "from sklearn.pipeline import Pipeline\n",
    "from sklearn.linear_model import LogisticRegression\n",
    "from sklearn.metrics import r2_score\n",
    "model = LogisticRegression()\n",
    "pipeline = Pipeline([('transformer',ct),\n",
    "                 ('model',model)\n",
    "                ])\n",
    "pipeline.fit(X_train,y_train)\n",
    "cvs = cross_val_score(pipeline, X_train,y_train,scoring = 'accuracy', cv=5).mean()\n",
    "print('Cross Validation Score for logistic regression is',cvs)"
   ]
  },
  {
   "cell_type": "code",
   "execution_count": 11,
   "metadata": {},
   "outputs": [
    {
     "name": "stdout",
     "output_type": "stream",
     "text": [
      "Cross Validation Score for support vector machine is 0.7836444444444444\n"
     ]
    }
   ],
   "source": [
    "from sklearn import svm\n",
    "model_svm_linear = svm.SVC(kernel='linear')\n",
    "pipeline_svm = Pipeline([('transformer_svm',ct),\n",
    "                 ('model_svm',model_svm_linear)\n",
    "                ])\n",
    "pipeline_svm.fit(X_train,y_train)\n",
    "cvs = cross_val_score(pipeline_svm, X_train,y_train,scoring = 'accuracy', cv=5).mean()\n",
    "print('Cross Validation Score for support vector machine is',cvs)"
   ]
  },
  {
   "cell_type": "code",
   "execution_count": 12,
   "metadata": {},
   "outputs": [
    {
     "name": "stdout",
     "output_type": "stream",
     "text": [
      "Cross Validation Score for k-nearest neighbours is 0.7660444444444444\n"
     ]
    }
   ],
   "source": [
    "from sklearn.neighbors import KNeighborsClassifier\n",
    "model_knbrs = KNeighborsClassifier(n_neighbors= 15)\n",
    "pipeline_knbrs = Pipeline([('transformer_knbrs',ct),\n",
    "                 ('model_knbrs',model_knbrs)\n",
    "                ])\n",
    "pipeline_knbrs.fit(X_train,y_train)\n",
    "cvs = cross_val_score(pipeline_knbrs, X_train,y_train,scoring = 'accuracy', cv=5).mean()\n",
    "print('Cross Validation Score for k-nearest neighbours is',cvs)"
   ]
  },
  {
   "cell_type": "code",
   "execution_count": 13,
   "metadata": {},
   "outputs": [
    {
     "name": "stdout",
     "output_type": "stream",
     "text": [
      "Cross Validation Score for decision tree is 0.7264\n"
     ]
    }
   ],
   "source": [
    "from sklearn import tree\n",
    "model_dtree = tree.DecisionTreeClassifier()\n",
    "pipeline_dtree = Pipeline([('transformer_dtree',ct),\n",
    "                 ('model_dtree',model_dtree)\n",
    "                ])\n",
    "pipeline_dtree.fit(X_train,y_train)\n",
    "cvs = cross_val_score(pipeline_dtree, X_train,y_train,scoring = 'accuracy', cv=5).mean()\n",
    "print('Cross Validation Score for decision tree is',cvs)"
   ]
  },
  {
   "cell_type": "markdown",
   "metadata": {},
   "source": [
    "#### Scaling the numerical features with StandardScaler"
   ]
  },
  {
   "cell_type": "code",
   "execution_count": 14,
   "metadata": {},
   "outputs": [],
   "source": [
    "ct = ColumnTransformer([\n",
    "    ('ohe',OneHotEncoder(),df_train_catg.columns),\n",
    "    ('ss', StandardScaler(), df_train_num.columns)\n",
    "     ])\n",
    "df_trans = ct.fit_transform(X_train)\n",
    "X_catg_trans_list = ct.transformers_\n",
    "X_catg_trans = ct.named_transformers_['ohe'].categories_"
   ]
  },
  {
   "cell_type": "code",
   "execution_count": 15,
   "metadata": {},
   "outputs": [
    {
     "name": "stdout",
     "output_type": "stream",
     "text": [
      "Cross Validation Score for logistic regression is 0.8021333333333333\n"
     ]
    }
   ],
   "source": [
    "pipeline = Pipeline([('transformer',ct),\n",
    "                 ('model',model)\n",
    "                ])\n",
    "pipeline.fit(X_train,y_train)\n",
    "cvs = cross_val_score(pipeline, X_train,y_train,scoring = 'accuracy', cv=5).mean()\n",
    "print('Cross Validation Score for logistic regression is',cvs)"
   ]
  },
  {
   "cell_type": "code",
   "execution_count": 16,
   "metadata": {},
   "outputs": [
    {
     "name": "stdout",
     "output_type": "stream",
     "text": [
      "Cross Validation Score for support vector machine is 0.8012444444444444\n"
     ]
    }
   ],
   "source": [
    "pipeline_svm = Pipeline([('transformer_svm',ct),\n",
    "                 ('model_svm',model_svm_linear)\n",
    "                ])\n",
    "pipeline_svm.fit(X_train,y_train)\n",
    "cvs = cross_val_score(pipeline_svm, X_train,y_train,scoring = 'accuracy', cv=5).mean()\n",
    "print('Cross Validation Score for support vector machine is',cvs)"
   ]
  },
  {
   "cell_type": "code",
   "execution_count": 17,
   "metadata": {},
   "outputs": [
    {
     "name": "stdout",
     "output_type": "stream",
     "text": [
      "Cross Validation Score for k-nearest neighbours is 0.7799111111111111\n"
     ]
    }
   ],
   "source": [
    "pipeline_knbrs = Pipeline([('transformer_knbrs',ct),\n",
    "                 ('model_knbrs',model_knbrs)\n",
    "                ])\n",
    "pipeline_knbrs.fit(X_train,y_train)\n",
    "cvs = cross_val_score(pipeline_knbrs, X_train,y_train,scoring = 'accuracy', cv=5).mean()\n",
    "print('Cross Validation Score for k-nearest neighbours is',cvs)"
   ]
  },
  {
   "cell_type": "code",
   "execution_count": 18,
   "metadata": {
    "scrolled": true
   },
   "outputs": [
    {
     "name": "stdout",
     "output_type": "stream",
     "text": [
      "Cross Validation Score for decision tree is 0.7223111111111111\n"
     ]
    }
   ],
   "source": [
    "pipeline_dtree = Pipeline([('transformer_dtree',ct),\n",
    "                 ('model_dtree',model_dtree)\n",
    "                ])\n",
    "pipeline_dtree.fit(X_train,y_train)\n",
    "cvs = cross_val_score(pipeline_dtree, X_train,y_train,scoring = 'accuracy', cv=5).mean()\n",
    "print('Cross Validation Score for decision tree is',cvs)"
   ]
  },
  {
   "cell_type": "markdown",
   "metadata": {},
   "source": [
    "#### Tuning Parameters "
   ]
  },
  {
   "cell_type": "markdown",
   "metadata": {},
   "source": [
    "### Logistic"
   ]
  },
  {
   "cell_type": "code",
   "execution_count": 19,
   "metadata": {
    "scrolled": false
   },
   "outputs": [
    {
     "name": "stdout",
     "output_type": "stream",
     "text": [
      "0.8033777777777779\n",
      "100000.0\n",
      "{'mean_fit_time': array([0.02843404, 0.02702494, 0.02705259, 0.02795873, 0.03771782,\n",
      "       0.03761573, 0.02688632, 0.01649637, 0.01149564, 0.00918169]), 'std_fit_time': array([2.32527719e-03, 1.81257702e-03, 1.34165485e-03, 2.01384717e-03,\n",
      "       6.72504304e-03, 1.85252219e-03, 2.00045446e-03, 1.20992333e-03,\n",
      "       1.14629749e-04, 3.61932910e-05]), 'mean_score_time': array([0.0016664 , 0.00164003, 0.00164933, 0.00170999, 0.00165076,\n",
      "       0.0018106 , 0.00164819, 0.00167737, 0.0016355 , 0.00162249]), 'std_score_time': array([2.61625040e-05, 7.51438478e-06, 3.64211206e-06, 1.03688939e-04,\n",
      "       1.39342555e-05, 3.02508041e-04, 1.47911781e-05, 5.69353551e-05,\n",
      "       1.82245390e-05, 8.82264722e-06]), 'param_C': masked_array(data=[100000.0, 10000.0, 1000.0, 100.0, 10.0, 1.0, 0.1, 0.01,\n",
      "                   0.001, 0.0001],\n",
      "             mask=[False, False, False, False, False, False, False, False,\n",
      "                   False, False],\n",
      "       fill_value='?',\n",
      "            dtype=object), 'params': [{'C': 100000.0}, {'C': 10000.0}, {'C': 1000.0}, {'C': 100.0}, {'C': 10.0}, {'C': 1.0}, {'C': 0.1}, {'C': 0.01}, {'C': 0.001}, {'C': 0.0001}], 'split0_test_score': array([0.8       , 0.8       , 0.8       , 0.8       , 0.79644444,\n",
      "       0.79555556, 0.79466667, 0.79911111, 0.77511111, 0.736     ]), 'split1_test_score': array([0.80977778, 0.80977778, 0.80977778, 0.80977778, 0.80977778,\n",
      "       0.81066667, 0.80977778, 0.80711111, 0.77155556, 0.736     ]), 'split2_test_score': array([0.79644444, 0.79644444, 0.79644444, 0.79644444, 0.79466667,\n",
      "       0.79555556, 0.79644444, 0.80088889, 0.77422222, 0.73511111]), 'split3_test_score': array([0.792     , 0.792     , 0.792     , 0.792     , 0.79288889,\n",
      "       0.79466667, 0.79466667, 0.79555556, 0.76622222, 0.73511111]), 'split4_test_score': array([0.81866667, 0.81866667, 0.81866667, 0.81777778, 0.81333333,\n",
      "       0.81422222, 0.81333333, 0.81155556, 0.76977778, 0.73511111]), 'mean_test_score': array([0.80337778, 0.80337778, 0.80337778, 0.8032    , 0.80142222,\n",
      "       0.80213333, 0.80177778, 0.80284444, 0.77137778, 0.73546667]), 'std_test_score': array([0.00962958, 0.00962958, 0.00962958, 0.00934983, 0.00842524,\n",
      "       0.00849993, 0.0080884 , 0.00574418, 0.0032    , 0.00043546]), 'rank_test_score': array([ 1,  1,  1,  4,  8,  6,  7,  5,  9, 10], dtype=int32)}\n"
     ]
    }
   ],
   "source": [
    "from sklearn.model_selection import GridSearchCV\n",
    "# prepare a range of C's values to test\n",
    "Cs = np.array([100000, 10000, 1000, 100,10,1,0.1,0.01,0.001,0.0001])\n",
    "# create and fit a ridge regression model, testing each alpha\n",
    "grid = GridSearchCV(estimator=LogisticRegression(), param_grid=dict(C=Cs))\n",
    "pipeline_1 = Pipeline([('transformer',ct),\n",
    "                 ('model',grid)\n",
    "                ])\n",
    "pipeline_1.fit(X_train, y_train)\n",
    "# summarize the results of the grid search\n",
    "print(grid.best_score_)\n",
    "print(grid.best_estimator_.C)\n",
    "print(grid.cv_results_)"
   ]
  },
  {
   "cell_type": "code",
   "execution_count": 20,
   "metadata": {
    "scrolled": false
   },
   "outputs": [
    {
     "data": {
      "text/plain": [
       "Text(0.5, 1.0, 'Dependence of Validation Score on Parameters')"
      ]
     },
     "execution_count": 20,
     "metadata": {},
     "output_type": "execute_result"
    },
    {
     "data": {
      "image/png": "[encoded data removed]",
      "text/plain": [
       "<Figure size 432x288 with 1 Axes>"
      ]
     },
     "metadata": {
      "needs_background": "light"
     },
     "output_type": "display_data"
    }
   ],
   "source": [
    "cross_val_scores = np.array([0.80337778, 0.80337778, 0.80337778, 0.8032    , 0.80142222,\n",
    "       0.80213333, 0.80177778, 0.80284444, 0.77137778, 0.73546667])\n",
    "parameters = np.array([100000, 10000, 1000, 100, 10, 1, 0.1, 0.01, 0.001, 0.0001])\n",
    "#curve fitting\n",
    "result = np.polyfit(parameters,cross_val_scores,3)\n",
    "plt.plot(np.log(parameters),cross_val_scores,'bo')\n",
    "#plt.plot(np.log(parameters,np.log(result),'b--',label='fitted data')\n",
    "plt.xlabel('Parametes($\\alpha\\$)')\n",
    "plt.ylabel('Cross_Val_Scores in log scale')\n",
    "plt.title('Dependence of Validation Score on Parameters')"
   ]
  },
  {
   "cell_type": "markdown",
   "metadata": {},
   "source": [
    "### SVM(kernel='linear')"
   ]
  },
  {
   "cell_type": "code",
   "execution_count": 21,
   "metadata": {},
   "outputs": [
    {
     "name": "stdout",
     "output_type": "stream",
     "text": [
      "0.8028444444444445\n",
      "0.01\n",
      "{'mean_fit_time': array([8.63045282, 1.77990141, 0.67829022, 0.4944448 , 0.46221824,\n",
      "       0.48537688]), 'std_fit_time': array([0.44852843, 0.06299755, 0.02339798, 0.01032035, 0.00963074,\n",
      "       0.00872287]), 'mean_score_time': array([0.08011451, 0.08025918, 0.08210845, 0.08274612, 0.08525987,\n",
      "       0.09484639]), 'std_score_time': array([0.00163206, 0.00179043, 0.00075469, 0.00149401, 0.00067149,\n",
      "       0.00093332]), 'param_C': masked_array(data=[100.0, 10.0, 1.0, 0.1, 0.01, 0.001],\n",
      "             mask=[False, False, False, False, False, False],\n",
      "       fill_value='?',\n",
      "            dtype=object), 'params': [{'C': 100.0}, {'C': 10.0}, {'C': 1.0}, {'C': 0.1}, {'C': 0.01}, {'C': 0.001}], 'split0_test_score': array([0.81155556, 0.81155556, 0.81333333, 0.81511111, 0.81511111,\n",
      "       0.74044444]), 'split1_test_score': array([0.80444444, 0.80533333, 0.80444444, 0.80622222, 0.80622222,\n",
      "       0.74488889]), 'split2_test_score': array([0.80088889, 0.80088889, 0.80266667, 0.80444444, 0.80266667,\n",
      "       0.73511111]), 'split3_test_score': array([0.78488889, 0.78577778, 0.78488889, 0.784     , 0.78933333,\n",
      "       0.74222222]), 'split4_test_score': array([0.80088889, 0.80177778, 0.80088889, 0.80266667, 0.80088889,\n",
      "       0.73688889]), 'mean_test_score': array([0.80053333, 0.80106667, 0.80124444, 0.80248889, 0.80284444,\n",
      "       0.73991111]), 'std_test_score': array([0.00873828, 0.00851479, 0.00923076, 0.01018777, 0.00834609,\n",
      "       0.00353773]), 'rank_test_score': array([5, 4, 3, 2, 1, 6], dtype=int32)}\n"
     ]
    }
   ],
   "source": [
    "# prepare a range of C's values to test\n",
    "Cs = np.array([100,10,1,0.1,0.01, 0.001])\n",
    "# create and fit a ridge regression model, testing each alpha\n",
    "grid = GridSearchCV(estimator=svm.SVC(kernel = 'linear'), param_grid=dict(C=Cs))\n",
    "pipeline_2 = Pipeline([('transformer',ct),\n",
    "                 ('model',grid)\n",
    "                ])\n",
    "pipeline_2.fit(X_train, y_train)\n",
    "# summarize the results of the grid search\n",
    "print(grid.best_score_)\n",
    "print(grid.best_estimator_.C)\n",
    "print(grid.cv_results_)"
   ]
  },
  {
   "cell_type": "code",
   "execution_count": 22,
   "metadata": {},
   "outputs": [
    {
     "data": {
      "text/plain": [
       "Text(0.5, 1.0, 'Dependence of Validation Score on Parameters')"
      ]
     },
     "execution_count": 22,
     "metadata": {},
     "output_type": "execute_result"
    },
    {
     "data": {
      "image/png": "[encoded data removed]",
      "text/plain": [
       "<Figure size 432x288 with 1 Axes>"
      ]
     },
     "metadata": {
      "needs_background": "light"
     },
     "output_type": "display_data"
    }
   ],
   "source": [
    "cross_val_scores = np.array([0.80053333, 0.80106667, 0.80124444, 0.80248889, 0.80284444, 0.73991111])\n",
    "parameters = np.array([100, 10, 1, 0.1, 0.01, 0.001])\n",
    "#curve fitting\n",
    "result = np.polyfit(parameters,cross_val_scores,3)\n",
    "plt.plot(np.log(parameters),cross_val_scores,'bo')\n",
    "#plt.plot(np.log(parameters,np.log(result),'b--',label='fitted data')\n",
    "plt.xlabel('Parametes($\\alpha\\$)')\n",
    "plt.ylabel('Cross_Val_Scores in log scale')\n",
    "plt.title('Dependence of Validation Score on Parameters')"
   ]
  },
  {
   "cell_type": "markdown",
   "metadata": {},
   "source": [
    "### kNN"
   ]
  },
  {
   "cell_type": "code",
   "execution_count": 23,
   "metadata": {},
   "outputs": [
    {
     "name": "stdout",
     "output_type": "stream",
     "text": [
      "0.7921777777777778\n",
      "50\n",
      "{'mean_fit_time': array([0.01174984, 0.01129584, 0.01178608, 0.01141253, 0.01115541,\n",
      "       0.01117129, 0.01072674, 0.0108079 , 0.01079178, 0.0108314 ]), 'std_fit_time': array([3.12127333e-04, 1.36043187e-04, 4.34944776e-04, 2.65736287e-04,\n",
      "       8.31300183e-05, 3.19262380e-04, 8.74803740e-05, 2.48439875e-04,\n",
      "       2.74908387e-04, 2.45234963e-04]), 'mean_score_time': array([0.52449894, 0.36904221, 0.28701777, 0.24035487, 0.2087019 ,\n",
      "       0.18331423, 0.16547513, 0.14787607, 0.12742786, 0.14012117]), 'std_score_time': array([0.01091551, 0.00444221, 0.00293906, 0.00391278, 0.00383377,\n",
      "       0.00689294, 0.00196894, 0.00327714, 0.00218619, 0.00405906]), 'param_n_neighbors': masked_array(data=[1000, 500, 200, 100, 50, 25, 15, 7, 3, 5],\n",
      "             mask=[False, False, False, False, False, False, False, False,\n",
      "                   False, False],\n",
      "       fill_value='?',\n",
      "            dtype=object), 'params': [{'n_neighbors': 1000}, {'n_neighbors': 500}, {'n_neighbors': 200}, {'n_neighbors': 100}, {'n_neighbors': 50}, {'n_neighbors': 25}, {'n_neighbors': 15}, {'n_neighbors': 7}, {'n_neighbors': 3}, {'n_neighbors': 5}], 'split0_test_score': array([0.792     , 0.79288889, 0.78222222, 0.784     , 0.78666667,\n",
      "       0.78222222, 0.78133333, 0.77155556, 0.75377778, 0.768     ]), 'split1_test_score': array([0.79377778, 0.79733333, 0.79022222, 0.79822222, 0.80533333,\n",
      "       0.808     , 0.80177778, 0.776     , 0.77333333, 0.78666667]), 'split2_test_score': array([0.79555556, 0.79111111, 0.79111111, 0.79733333, 0.78844444,\n",
      "       0.78577778, 0.776     , 0.76355556, 0.75466667, 0.75288889]), 'split3_test_score': array([0.77688889, 0.77511111, 0.77777778, 0.77688889, 0.77066667,\n",
      "       0.77066667, 0.76      , 0.75555556, 0.74755556, 0.74755556]), 'split4_test_score': array([0.792     , 0.79822222, 0.79822222, 0.80088889, 0.80977778,\n",
      "       0.78488889, 0.77955556, 0.76444444, 0.73777778, 0.76711111]), 'mean_test_score': array([0.79004444, 0.79093333, 0.78791111, 0.79146667, 0.79217778,\n",
      "       0.78631111, 0.77973333, 0.76622222, 0.75342222, 0.76444444]), 'std_test_score': array([0.00670861, 0.00834609, 0.00716866, 0.00934983, 0.0140703 ,\n",
      "       0.01211761, 0.01335583, 0.00704413, 0.01163868, 0.01365537]), 'rank_test_score': array([ 4,  3,  5,  2,  1,  6,  7,  8, 10,  9], dtype=int32)}\n"
     ]
    }
   ],
   "source": [
    "# prepare a range of C's values to test\n",
    "Ks = np.array([1000, 500, 200, 100,50,25,15,7,3,5])\n",
    "# create and fit a ridge regression model, testing each alpha\n",
    "grid = GridSearchCV(estimator=KNeighborsClassifier(), param_grid=dict(n_neighbors=Ks))\n",
    "pipeline_3 = Pipeline([('transformer',ct),\n",
    "                 ('model',grid)\n",
    "                ])\n",
    "pipeline_3.fit(X_train, y_train)\n",
    "# summarize the results of the grid search\n",
    "print(grid.best_score_)\n",
    "print(grid.best_estimator_.n_neighbors)\n",
    "print(grid.cv_results_)"
   ]
  },
  {
   "cell_type": "code",
   "execution_count": 24,
   "metadata": {},
   "outputs": [
    {
     "data": {
      "text/plain": [
       "Text(0.5, 1.0, 'Dependence of Validation Score on Parameters')"
      ]
     },
     "execution_count": 24,
     "metadata": {},
     "output_type": "execute_result"
    },
    {
     "data": {
      "image/png": "[encoded data removed]",
      "text/plain": [
       "<Figure size 432x288 with 1 Axes>"
      ]
     },
     "metadata": {
      "needs_background": "light"
     },
     "output_type": "display_data"
    }
   ],
   "source": [
    "cross_val_scores = np.array([0.79004444, 0.79093333, 0.78791111, 0.79146667, 0.79217778,\n",
    "       0.78631111, 0.77973333, 0.76622222, 0.75342222, 0.76444444])\n",
    "parameters = np.array([1000, 500, 200, 100,50,25,15,7,3,5])\n",
    "#curve fitting\n",
    "result = np.polyfit(parameters,cross_val_scores,3)\n",
    "plt.plot(np.log(parameters),cross_val_scores,'bo')\n",
    "#plt.plot(np.log(parameters,np.log(result),'b--',label='fitted data')\n",
    "plt.xlabel('Parametes($\\alpha\\$)')\n",
    "plt.ylabel('Cross_Val_Scores in log scale')\n",
    "plt.title('Dependence of Validation Score on Parameters')"
   ]
  },
  {
   "cell_type": "markdown",
   "metadata": {},
   "source": [
    "#### 3d. Use RandomSearchCV to tune the decision tree model with max_depth, max_leaf_nodes, min_samples_split, min_samples_leaf, and min_weight_fraction_leaf."
   ]
  },
  {
   "cell_type": "code",
   "execution_count": 25,
   "metadata": {
    "scrolled": false
   },
   "outputs": [
    {
     "name": "stdout",
     "output_type": "stream",
     "text": [
      "0.7612444444444445\n",
      "DecisionTreeClassifier(ccp_alpha=0.0, class_weight=None, criterion='gini',\n",
      "                       max_depth=918.4489795918367, max_features=None,\n",
      "                       max_leaf_nodes=7, min_impurity_decrease=0.0,\n",
      "                       min_impurity_split=None,\n",
      "                       min_samples_leaf=0.23333333333333334,\n",
      "                       min_samples_split=0.1,\n",
      "                       min_weight_fraction_leaf=0.005555555555555556,\n",
      "                       presort='deprecated', random_state=11, splitter='best')\n",
      "{'mean_fit_time': array([0.00636201, 0.007022  , 0.00592861, 0.00592084, 0.00592575,\n",
      "       0.00596676, 0.00586782, 0.00600901, 0.00625463, 0.0059586 ]), 'std_fit_time': array([3.05871446e-04, 1.23666005e-04, 1.30846288e-04, 1.03398639e-04,\n",
      "       1.32660314e-04, 6.58057047e-05, 8.20986475e-05, 1.36745275e-04,\n",
      "       3.25920148e-04, 7.32235276e-05]), 'mean_score_time': array([0.00178337, 0.00166821, 0.00168643, 0.00160189, 0.00160089,\n",
      "       0.00163641, 0.00165939, 0.00159473, 0.00160246, 0.00161448]), 'std_score_time': array([1.51393883e-04, 6.76450275e-05, 6.38247204e-05, 2.55966080e-05,\n",
      "       3.52590691e-05, 4.12403775e-05, 7.88337440e-05, 2.86306467e-05,\n",
      "       1.59561712e-05, 4.08197674e-05]), 'param_min_weight_fraction_leaf': masked_array(data=[0.005555555555555556, 0.005555555555555556, 0.0,\n",
      "                   0.0011111111111111111, 0.0011111111111111111,\n",
      "                   0.006666666666666666, 0.005555555555555556, 0.0,\n",
      "                   0.0011111111111111111, 0.006666666666666666],\n",
      "             mask=[False, False, False, False, False, False, False, False,\n",
      "                   False, False],\n",
      "       fill_value='?',\n",
      "            dtype=object), 'param_min_samples_split': masked_array(data=[0.4, 0.1, 1.0, 0.2, 0.30000000000000004, 0.1,\n",
      "                   0.30000000000000004, 0.8, 0.4, 0.2],\n",
      "             mask=[False, False, False, False, False, False, False, False,\n",
      "                   False, False],\n",
      "       fill_value='?',\n",
      "            dtype=object), 'param_min_samples_leaf': masked_array(data=[0.4555555555555556, 0.23333333333333334,\n",
      "                   0.4111111111111111, 0.4111111111111111,\n",
      "                   0.32222222222222224, 0.3666666666666667,\n",
      "                   0.4555555555555556, 0.32222222222222224,\n",
      "                   0.2777777777777778, 0.32222222222222224],\n",
      "             mask=[False, False, False, False, False, False, False, False,\n",
      "                   False, False],\n",
      "       fill_value='?',\n",
      "            dtype=object), 'param_max_leaf_nodes': masked_array(data=[7, 7, 3, 6, 9, 6, 4, 4, 3, 2],\n",
      "             mask=[False, False, False, False, False, False, False, False,\n",
      "                   False, False],\n",
      "       fill_value='?',\n",
      "            dtype=object), 'param_max_depth': masked_array(data=[612.6326530612245, 918.4489795918367,\n",
      "                   714.5714285714286, 714.5714285714286,\n",
      "                   796.1224489795918, 164.10204081632654,\n",
      "                   225.26530612244898, 959.2244897959184,\n",
      "                   367.9795918367347, 286.42857142857144],\n",
      "             mask=[False, False, False, False, False, False, False, False,\n",
      "                   False, False],\n",
      "       fill_value='?',\n",
      "            dtype=object), 'params': [{'min_weight_fraction_leaf': 0.005555555555555556, 'min_samples_split': 0.4, 'min_samples_leaf': 0.4555555555555556, 'max_leaf_nodes': 7, 'max_depth': 612.6326530612245}, {'min_weight_fraction_leaf': 0.005555555555555556, 'min_samples_split': 0.1, 'min_samples_leaf': 0.23333333333333334, 'max_leaf_nodes': 7, 'max_depth': 918.4489795918367}, {'min_weight_fraction_leaf': 0.0, 'min_samples_split': 1.0, 'min_samples_leaf': 0.4111111111111111, 'max_leaf_nodes': 3, 'max_depth': 714.5714285714286}, {'min_weight_fraction_leaf': 0.0011111111111111111, 'min_samples_split': 0.2, 'min_samples_leaf': 0.4111111111111111, 'max_leaf_nodes': 6, 'max_depth': 714.5714285714286}, {'min_weight_fraction_leaf': 0.0011111111111111111, 'min_samples_split': 0.30000000000000004, 'min_samples_leaf': 0.32222222222222224, 'max_leaf_nodes': 9, 'max_depth': 796.1224489795918}, {'min_weight_fraction_leaf': 0.006666666666666666, 'min_samples_split': 0.1, 'min_samples_leaf': 0.3666666666666667, 'max_leaf_nodes': 6, 'max_depth': 164.10204081632654}, {'min_weight_fraction_leaf': 0.005555555555555556, 'min_samples_split': 0.30000000000000004, 'min_samples_leaf': 0.4555555555555556, 'max_leaf_nodes': 4, 'max_depth': 225.26530612244898}, {'min_weight_fraction_leaf': 0.0, 'min_samples_split': 0.8, 'min_samples_leaf': 0.32222222222222224, 'max_leaf_nodes': 4, 'max_depth': 959.2244897959184}, {'min_weight_fraction_leaf': 0.0011111111111111111, 'min_samples_split': 0.4, 'min_samples_leaf': 0.2777777777777778, 'max_leaf_nodes': 3, 'max_depth': 367.9795918367347}, {'min_weight_fraction_leaf': 0.006666666666666666, 'min_samples_split': 0.2, 'min_samples_leaf': 0.32222222222222224, 'max_leaf_nodes': 2, 'max_depth': 286.42857142857144}], 'split0_test_score': array([0.736     , 0.76622222, 0.736     , 0.736     , 0.736     ,\n",
      "       0.736     , 0.736     , 0.736     , 0.736     , 0.736     ]), 'split1_test_score': array([0.736     , 0.77244444, 0.736     , 0.736     , 0.736     ,\n",
      "       0.736     , 0.736     , 0.736     , 0.76444444, 0.736     ]), 'split2_test_score': array([0.73511111, 0.78311111, 0.73511111, 0.73511111, 0.73511111,\n",
      "       0.73511111, 0.73511111, 0.73511111, 0.73511111, 0.73511111]), 'split3_test_score': array([0.73511111, 0.73866667, 0.73511111, 0.73511111, 0.73511111,\n",
      "       0.73511111, 0.73511111, 0.73511111, 0.73511111, 0.73511111]), 'split4_test_score': array([0.73511111, 0.74577778, 0.73511111, 0.73511111, 0.73511111,\n",
      "       0.73511111, 0.73511111, 0.73511111, 0.73511111, 0.73511111]), 'mean_test_score': array([0.73546667, 0.76124444, 0.73546667, 0.73546667, 0.73546667,\n",
      "       0.73546667, 0.73546667, 0.73546667, 0.74115556, 0.73546667]), 'std_test_score': array([0.00043546, 0.01659725, 0.00043546, 0.00043546, 0.00043546,\n",
      "       0.00043546, 0.00043546, 0.00043546, 0.01164953, 0.00043546]), 'rank_test_score': array([3, 1, 3, 3, 3, 3, 3, 3, 2, 3], dtype=int32)}\n"
     ]
    }
   ],
   "source": [
    "from sklearn.model_selection import RandomizedSearchCV\n",
    "md = np.linspace(1,1000,num=50,endpoint=True)\n",
    "mln = np.array([2,3,4,5,6,7,8,9,10])\n",
    "mss = np.linspace(0.1,1,num=10,endpoint=True)\n",
    "msl = np.linspace(0.1,0.5,num=10,endpoint=True)\n",
    "mwfl = np.linspace(0,0.01,num=10,endpoint=True)\n",
    "# create and fit a ridge regression model, testing each alpha\n",
    "grid = RandomizedSearchCV(estimator=tree.DecisionTreeClassifier(random_state=11), \n",
    "                          param_distributions=dict(max_depth = md, \n",
    "                                                            max_leaf_nodes = mln, \n",
    "                                                            min_samples_split = mss,\n",
    "                                                            min_samples_leaf = msl,\n",
    "                                                            min_weight_fraction_leaf = mwfl))\n",
    "pipeline_RSCV = Pipeline([('transformer',ct),\n",
    "                 ('model',grid)\n",
    "                ])\n",
    "pipeline_RSCV.fit(X_train, y_train)\n",
    "# summarize the results of the grid search\n",
    "print(grid.best_score_)\n",
    "print(grid.best_estimator_)\n",
    "print(grid.cv_results_)"
   ]
  },
  {
   "cell_type": "markdown",
   "metadata": {},
   "source": [
    "#### 4. Is polynomial kernel and Gaussian RBF kernel helpful for improving the performance of the SVM model?"
   ]
  },
  {
   "cell_type": "markdown",
   "metadata": {},
   "source": [
    "### SVM kernel = 'Poly'"
   ]
  },
  {
   "cell_type": "code",
   "execution_count": 26,
   "metadata": {},
   "outputs": [
    {
     "name": "stdout",
     "output_type": "stream",
     "text": [
      "0.8001777777777779\n",
      "0.1\n",
      "{'mean_fit_time': array([5.77781949, 1.0985321 , 0.62133937, 0.54977665, 0.55386243,\n",
      "       0.54168539]), 'std_fit_time': array([0.44308448, 0.04303725, 0.01241852, 0.0086365 , 0.02384795,\n",
      "       0.01103644]), 'mean_score_time': array([0.07920566, 0.0896347 , 0.09408188, 0.09642358, 0.10522637,\n",
      "       0.10489345]), 'std_score_time': array([0.00199429, 0.00192666, 0.00115094, 0.00107157, 0.00184863,\n",
      "       0.00095959]), 'param_C': masked_array(data=[100.0, 10.0, 1.0, 0.1, 0.01, 0.001],\n",
      "             mask=[False, False, False, False, False, False],\n",
      "       fill_value='?',\n",
      "            dtype=object), 'params': [{'C': 100.0}, {'C': 10.0}, {'C': 1.0}, {'C': 0.1}, {'C': 0.01}, {'C': 0.001}], 'split0_test_score': array([0.74666667, 0.76177778, 0.79466667, 0.80444444, 0.78666667,\n",
      "       0.736     ]), 'split1_test_score': array([0.76177778, 0.78933333, 0.81244444, 0.80888889, 0.78577778,\n",
      "       0.736     ]), 'split2_test_score': array([0.76266667, 0.784     , 0.792     , 0.79911111, 0.78933333,\n",
      "       0.73511111]), 'split3_test_score': array([0.73066667, 0.76444444, 0.78844444, 0.78844444, 0.78133333,\n",
      "       0.73511111]), 'split4_test_score': array([0.74755556, 0.78488889, 0.80533333, 0.8       , 0.77777778,\n",
      "       0.73511111]), 'mean_test_score': array([0.74986667, 0.77688889, 0.79857778, 0.80017778, 0.78417778,\n",
      "       0.73546667]), 'std_test_score': array([0.01174679, 0.0114249 , 0.00893499, 0.00682537, 0.00410817,\n",
      "       0.00043546]), 'rank_test_score': array([5, 4, 2, 1, 3, 6], dtype=int32)}\n"
     ]
    }
   ],
   "source": [
    "# prepare a range of C's values to test\n",
    "Cs = np.array([100,10,1,0.1,0.01,0.001])\n",
    "# create and fit svm with polynomial kernel\n",
    "grid = GridSearchCV(estimator=svm.SVC(kernel = 'poly'), param_grid=dict(C=Cs))\n",
    "pipeline_2 = Pipeline([('transformer',ct),\n",
    "                 ('model',grid)\n",
    "                ])\n",
    "pipeline_2.fit(X_train, y_train)\n",
    "# summarize the results of the grid search\n",
    "print(grid.best_score_)\n",
    "print(grid.best_estimator_.C)\n",
    "print(grid.cv_results_)"
   ]
  },
  {
   "cell_type": "markdown",
   "metadata": {},
   "source": [
    "### SVM Kernel = 'rbf'"
   ]
  },
  {
   "cell_type": "code",
   "execution_count": 27,
   "metadata": {},
   "outputs": [
    {
     "name": "stdout",
     "output_type": "stream",
     "text": [
      "0.8001777777777777\n",
      "1.0\n",
      "{'mean_fit_time': array([1.79154263, 0.88929195, 0.67282953, 0.6397296 , 0.68051524,\n",
      "       0.66263285]), 'std_fit_time': array([0.04400188, 0.02743851, 0.01672257, 0.00746848, 0.0219759 ,\n",
      "       0.01365965]), 'mean_score_time': array([0.11913309, 0.12408781, 0.12073102, 0.12242999, 0.1369895 ,\n",
      "       0.13496757]), 'std_score_time': array([0.00179104, 0.0020128 , 0.00192543, 0.00196001, 0.00339452,\n",
      "       0.00380242]), 'param_C': masked_array(data=[100.0, 10.0, 1.0, 0.1, 0.01, 0.001],\n",
      "             mask=[False, False, False, False, False, False],\n",
      "       fill_value='?',\n",
      "            dtype=object), 'params': [{'C': 100.0}, {'C': 10.0}, {'C': 1.0}, {'C': 0.1}, {'C': 0.01}, {'C': 0.001}], 'split0_test_score': array([0.75644444, 0.77333333, 0.79466667, 0.79466667, 0.736     ,\n",
      "       0.736     ]), 'split1_test_score': array([0.76355556, 0.79022222, 0.81511111, 0.80622222, 0.736     ,\n",
      "       0.736     ]), 'split2_test_score': array([0.76088889, 0.78844444, 0.79733333, 0.8       , 0.73511111,\n",
      "       0.73511111]), 'split3_test_score': array([0.74844444, 0.77333333, 0.78577778, 0.78133333, 0.73511111,\n",
      "       0.73511111]), 'split4_test_score': array([0.74844444, 0.78577778, 0.808     , 0.79733333, 0.73511111,\n",
      "       0.73511111]), 'mean_test_score': array([0.75555556, 0.78222222, 0.80017778, 0.79591111, 0.73546667,\n",
      "       0.73546667]), 'std_test_score': array([0.00623491, 0.00739436, 0.01029577, 0.00823554, 0.00043546,\n",
      "       0.00043546]), 'rank_test_score': array([4, 3, 1, 2, 5, 5], dtype=int32)}\n"
     ]
    }
   ],
   "source": [
    "# prepare a range of C's values to test\n",
    "Cs = np.array([100,10,1,0.1,0.01,0.001])\n",
    "# create and fit a svm testing each C's\n",
    "grid = GridSearchCV(estimator=svm.SVC(), param_grid=dict(C=Cs))\n",
    "pipeline_2 = Pipeline([('transformer',ct),\n",
    "                 ('model',grid)\n",
    "                ])\n",
    "pipeline_2.fit(X_train, y_train)\n",
    "# summarize the results of the grid search\n",
    "print(grid.best_score_)\n",
    "print(grid.best_estimator_.C)\n",
    "print(grid.cv_results_)"
   ]
  },
  {
   "cell_type": "markdown",
   "metadata": {},
   "source": [
    "#### 5.       Choose the best model by analyzing the accuracy, precision, recall, ROC curve, and auc score"
   ]
  },
  {
   "cell_type": "markdown",
   "metadata": {},
   "source": [
    "### precesion score, and recall score for df_test"
   ]
  },
  {
   "cell_type": "code",
   "execution_count": 28,
   "metadata": {},
   "outputs": [],
   "source": [
    "from sklearn.metrics import roc_curve\n",
    "from sklearn.metrics import roc_auc_score\n",
    "X_test = df_test.drop(['Churn'],axis = 1)\n",
    "y_test = df_test['Churn'].values\n",
    "y_test_new = [1 if item == 'Yes' else 0 for item in y_test]"
   ]
  },
  {
   "cell_type": "markdown",
   "metadata": {},
   "source": [
    "##### Logistic Regression"
   ]
  },
  {
   "cell_type": "code",
   "execution_count": 29,
   "metadata": {},
   "outputs": [],
   "source": [
    "model = LogisticRegression(C=10000)\n",
    "pipeline = Pipeline([('transformer',ct),\n",
    "                 ('model',model)\n",
    "                ])\n",
    "pipeline.fit(X_train,y_train)\n",
    "y_test_predict = pipeline.predict(X_test)\n",
    "y_probs =pipeline.predict_proba(X_test)\n",
    "y_probs = y_probs[:,1]"
   ]
  },
  {
   "cell_type": "code",
   "execution_count": 30,
   "metadata": {
    "scrolled": true
   },
   "outputs": [
    {
     "name": "stdout",
     "output_type": "stream",
     "text": [
      "precesion score is 0.6677524429967426\n",
      "recall score is 0.6677524429967426\n",
      "accuracy score is 0.8469617404351087\n",
      "auc score 0.8390917509580309\n"
     ]
    }
   ],
   "source": [
    "# Cross Validation\n",
    "TP = 0\n",
    "FP = 0\n",
    "TN = 0\n",
    "FN = 0\n",
    "\n",
    "for i in range(len(y_test_predict)): \n",
    "    if y_test[i]==y_test_predict[i]=='Yes':\n",
    "           TP += 1\n",
    "    if y_test_predict[i]=='Yes' and y_test[i]!=y_test_predict[i]:\n",
    "           FP += 1\n",
    "    if y_test[i]==y_test_predict[i]=='No':\n",
    "           TN += 1\n",
    "    if y_test[i]=='No' and y_test[i]!=y_test_predict[i]:\n",
    "           FN += 1\n",
    "#precision score\n",
    "PPV = TP/(TP + FP )\n",
    "print('precesion score is', PPV)\n",
    "#recall score\n",
    "TPR = TP/(TP + FN)\n",
    "print('recall score is', TPR)\n",
    "#Accuracy score\n",
    "ACC = (TP + TN)/(TP + TN + FP + FN)\n",
    "print('accuracy score is', ACC)\n",
    "#auc score\n",
    "auc = roc_auc_score(y_test, y_probs)\n",
    "print('auc score',auc)"
   ]
  },
  {
   "cell_type": "code",
   "execution_count": 31,
   "metadata": {},
   "outputs": [
    {
     "data": {
      "image/png": "[encoded data removed]",
      "text/plain": [
       "<Figure size 432x288 with 1 Axes>"
      ]
     },
     "metadata": {
      "needs_background": "light"
     },
     "output_type": "display_data"
    }
   ],
   "source": [
    "#ruc curve\n",
    "FPR, TPR, _ = roc_curve(y_test_new, y_probs)\n",
    "# plot the roc curve for the model\n",
    "plt.plot(FPR, TPR, linestyle='--', label='logistic')\n",
    "# axis labels\n",
    "plt.xlabel('FPR')\n",
    "plt.ylabel('TPR')\n",
    "# show the legend\n",
    "plt.legend()\n",
    "# show the plot\n",
    "plt.show()"
   ]
  },
  {
   "cell_type": "markdown",
   "metadata": {},
   "source": [
    "##### SVM"
   ]
  },
  {
   "cell_type": "code",
   "execution_count": 32,
   "metadata": {},
   "outputs": [],
   "source": [
    "model_svm_linear = svm.SVC(kernel = 'linear',C=1,probability=True)\n",
    "pipeline_svm = Pipeline([('transformer_svm',ct),\n",
    "                 ('model_svm',model_svm_linear)\n",
    "                ])\n",
    "pipeline_svm.fit(X_train,y_train)\n",
    "y_test_predict = pipeline_svm.predict(X_test)\n",
    "y_probs =pipeline_svm.predict_proba(X_test)\n",
    "y_probs = y_probs[:,1]"
   ]
  },
  {
   "cell_type": "code",
   "execution_count": 33,
   "metadata": {},
   "outputs": [
    {
     "name": "stdout",
     "output_type": "stream",
     "text": [
      "precesion score is 0.6472602739726028\n",
      "recall score is 0.6472602739726028\n",
      "accuracy score is 0.8437025796661608\n",
      "auc score 0.8204952085667654\n"
     ]
    }
   ],
   "source": [
    "# Cross Validation\n",
    "TP = 0\n",
    "FP = 0\n",
    "TN = 0\n",
    "FN = 0\n",
    "\n",
    "for i in range(len(y_test_predict)): \n",
    "    if y_test[i]==y_test_predict[i]=='Yes':\n",
    "           TP += 1\n",
    "    if y_test_predict[i]=='Yes' and y_test[i]!=y_test_predict[i]:\n",
    "           FP += 1\n",
    "    if y_test[i]==y_test_predict[i]=='No':\n",
    "           TN += 1\n",
    "    if y_test[i]=='No' and y_test[i]!=y_test_predict[i]:\n",
    "           FN += 1\n",
    "#precision score\n",
    "PPV = TP/(TP + FP )\n",
    "print('precesion score is', PPV)\n",
    "#recall score\n",
    "TPR = TP/(TP + FN)\n",
    "print('recall score is', TPR)\n",
    "#Accuracy score\n",
    "ACC = (TP + TN)/(TP + TN + FP + FN)\n",
    "print('accuracy score is', ACC)\n",
    "#auc score\n",
    "auc = roc_auc_score(y_test, y_probs)\n",
    "print('auc score',auc)"
   ]
  },
  {
   "cell_type": "code",
   "execution_count": 34,
   "metadata": {},
   "outputs": [
    {
     "data": {
      "image/png": "[encoded data removed]",
      "text/plain": [
       "<Figure size 432x288 with 1 Axes>"
      ]
     },
     "metadata": {
      "needs_background": "light"
     },
     "output_type": "display_data"
    }
   ],
   "source": [
    "FPR, TPR, _ = roc_curve(y_test_new, y_probs)\n",
    "# plot the roc curve for the model\n",
    "plt.plot(FPR, TPR, linestyle='--', label='svm')\n",
    "# axis labels\n",
    "plt.xlabel('FPR')\n",
    "plt.ylabel('TPR')\n",
    "# show the legend\n",
    "plt.legend()\n",
    "# show the plot\n",
    "plt.show()"
   ]
  },
  {
   "cell_type": "markdown",
   "metadata": {},
   "source": [
    "##### KNN"
   ]
  },
  {
   "cell_type": "code",
   "execution_count": 35,
   "metadata": {},
   "outputs": [],
   "source": [
    "model_knbrs = KNeighborsClassifier(n_neighbors= 50)\n",
    "pipeline_knbrs = Pipeline([('transformer_knbrs',ct),\n",
    "                 ('model_knbrs',model_knbrs)\n",
    "                ])\n",
    "pipeline_knbrs.fit(X_train,y_train)\n",
    "y_test_predict = pipeline_knbrs.predict(X_test)\n",
    "y_probs =pipeline_knbrs.predict_proba(X_test)\n",
    "y_probs = y_probs[:,1]"
   ]
  },
  {
   "cell_type": "code",
   "execution_count": 36,
   "metadata": {},
   "outputs": [
    {
     "name": "stdout",
     "output_type": "stream",
     "text": [
      "precesion score is 0.629080118694362\n",
      "recall score is 0.629080118694362\n",
      "accuracy score is 0.8165810711665444\n",
      "auc score 0.8276491023417395\n"
     ]
    }
   ],
   "source": [
    "# Cross Validation\n",
    "TP = 0\n",
    "FP = 0\n",
    "TN = 0\n",
    "FN = 0\n",
    "\n",
    "for i in range(len(y_test_predict)): \n",
    "    if y_test[i]==y_test_predict[i]=='Yes':\n",
    "           TP += 1\n",
    "    if y_test_predict[i]=='Yes' and y_test[i]!=y_test_predict[i]:\n",
    "           FP += 1\n",
    "    if y_test[i]==y_test_predict[i]=='No':\n",
    "           TN += 1\n",
    "    if y_test[i]=='No' and y_test[i]!=y_test_predict[i]:\n",
    "           FN += 1\n",
    "#precision score\n",
    "PPV = TP/(TP + FP )\n",
    "print('precesion score is', PPV)\n",
    "#recall score\n",
    "TPR = TP/(TP + FN)\n",
    "print('recall score is', TPR)\n",
    "#Accuracy score\n",
    "ACC = (TP + TN)/(TP + TN + FP + FN)\n",
    "print('accuracy score is', ACC)\n",
    "#auc score\n",
    "auc = roc_auc_score(y_test, y_probs)\n",
    "print('auc score',auc)"
   ]
  },
  {
   "cell_type": "code",
   "execution_count": 37,
   "metadata": {},
   "outputs": [
    {
     "data": {
      "image/png": "[encoded data removed]",
      "text/plain": [
       "<Figure size 432x288 with 1 Axes>"
      ]
     },
     "metadata": {
      "needs_background": "light"
     },
     "output_type": "display_data"
    }
   ],
   "source": [
    "FPR, TPR, _ = roc_curve(y_test_new, y_probs)\n",
    "# plot the roc curve for the model\n",
    "plt.plot(FPR, TPR, linestyle='--', label='KNN')\n",
    "# axis labels\n",
    "plt.xlabel('FPR')\n",
    "plt.ylabel('TPR')\n",
    "# show the legend\n",
    "plt.legend()\n",
    "# show the plot\n",
    "plt.show()"
   ]
  },
  {
   "cell_type": "markdown",
   "metadata": {},
   "source": [
    "##### Decision Tree"
   ]
  },
  {
   "cell_type": "code",
   "execution_count": 38,
   "metadata": {},
   "outputs": [],
   "source": [
    "model_dtree = tree.DecisionTreeClassifier()\n",
    "pipeline_dtree = Pipeline([('transformer_dtree',ct),\n",
    "                 ('model_dtree',model_dtree)\n",
    "                ])\n",
    "pipeline_dtree.fit(X_train,y_train)\n",
    "y_test_predict = pipeline_dtree.predict(X_test)\n",
    "y_probs =pipeline_dtree.predict_proba(X_test)\n",
    "y_probs = y_probs[:,1]"
   ]
  },
  {
   "cell_type": "code",
   "execution_count": 39,
   "metadata": {},
   "outputs": [
    {
     "name": "stdout",
     "output_type": "stream",
     "text": [
      "precesion score is 0.5245901639344263\n",
      "recall score is 0.5245901639344263\n",
      "accuracy score is 0.75\n",
      "auc score 0.6670542278706388\n"
     ]
    }
   ],
   "source": [
    "# Cross Validation\n",
    "TP = 0\n",
    "FP = 0\n",
    "TN = 0\n",
    "FN = 0\n",
    "\n",
    "for i in range(len(y_test_predict)): \n",
    "    if y_test[i]==y_test_predict[i]=='Yes':\n",
    "           TP += 1\n",
    "    if y_test_predict[i]=='Yes' and y_test[i]!=y_test_predict[i]:\n",
    "           FP += 1\n",
    "    if y_test[i]==y_test_predict[i]=='No':\n",
    "           TN += 1\n",
    "    if y_test[i]=='No' and y_test[i]!=y_test_predict[i]:\n",
    "           FN += 1\n",
    "#precision score\n",
    "PPV = TP/(TP + FP )\n",
    "print('precesion score is', PPV)\n",
    "#recall score\n",
    "TPR = TP/(TP + FN)\n",
    "print('recall score is', TPR)\n",
    "#Accuracy score\n",
    "ACC = (TP + TN)/(TP + TN + FP + FN)\n",
    "print('accuracy score is', ACC)\n",
    "#auc score\n",
    "auc = roc_auc_score(y_test, y_probs)\n",
    "print('auc score',auc)"
   ]
  },
  {
   "cell_type": "markdown",
   "metadata": {},
   "source": [
    "#### On the basis of  precesion score, recall score, accuracy score and auc score, I found SVM model best."
   ]
  },
  {
   "cell_type": "markdown",
   "metadata": {},
   "source": [
    "#### 6. Which types of customers are less likely to end the service? "
   ]
  },
  {
   "cell_type": "code",
   "execution_count": 46,
   "metadata": {
    "scrolled": true
   },
   "outputs": [
    {
     "data": {
      "text/plain": [
       "[('ohe',\n",
       "  OneHotEncoder(categories='auto', drop=None, dtype=<class 'numpy.float64'>,\n",
       "                handle_unknown='error', sparse=True),\n",
       "  Index(['gender', 'Partner', 'Dependents', 'PhoneService', 'MultipleLines',\n",
       "         'InternetService', 'OnlineSecurity', 'OnlineBackup', 'DeviceProtection',\n",
       "         'TechSupport', 'StreamingTV', 'StreamingMovies', 'Contract',\n",
       "         'PaperlessBilling', 'PaymentMethod'],\n",
       "        dtype='object')),\n",
       " ('ss',\n",
       "  StandardScaler(copy=True, with_mean=True, with_std=True),\n",
       "  Index(['SeniorCitizen', 'tenure', 'MonthlyCharges', 'TotalCharges'], dtype='object'))]"
      ]
     },
     "execution_count": 46,
     "metadata": {},
     "output_type": "execute_result"
    }
   ],
   "source": [
    "ct.transformers_"
   ]
  },
  {
   "cell_type": "code",
   "execution_count": 47,
   "metadata": {},
   "outputs": [
    {
     "data": {
      "text/plain": [
       "[array(['Female', 'Male'], dtype=object),\n",
       " array(['No', 'Yes'], dtype=object),\n",
       " array(['No', 'Yes'], dtype=object),\n",
       " array(['No', 'Yes'], dtype=object),\n",
       " array(['No', 'No phone service', 'Yes'], dtype=object),\n",
       " array(['DSL', 'Fiber optic', 'No'], dtype=object),\n",
       " array(['No', 'No internet service', 'Yes'], dtype=object),\n",
       " array(['No', 'No internet service', 'Yes'], dtype=object),\n",
       " array(['No', 'No internet service', 'Yes'], dtype=object),\n",
       " array(['No', 'No internet service', 'Yes'], dtype=object),\n",
       " array(['No', 'No internet service', 'Yes'], dtype=object),\n",
       " array(['No', 'No internet service', 'Yes'], dtype=object),\n",
       " array(['Month-to-month', 'One year', 'Two year'], dtype=object),\n",
       " array(['No', 'Yes'], dtype=object),\n",
       " array(['Bank transfer (automatic)', 'Credit card (automatic)',\n",
       "        'Electronic check', 'Mailed check'], dtype=object)]"
      ]
     },
     "execution_count": 47,
     "metadata": {},
     "output_type": "execute_result"
    }
   ],
   "source": [
    "X_catg_trans"
   ]
  },
  {
   "cell_type": "code",
   "execution_count": 44,
   "metadata": {
    "scrolled": false
   },
   "outputs": [
    {
     "data": {
      "text/plain": [
       "MultipleLines No Internet Service         -0.737859\n",
       "MonthlyCharges                            -0.480970\n",
       "TotalCharges                              -0.449911\n",
       "PaymentMethod Mailed check                -0.380860\n",
       "OnlineBackup Yes                          -0.157688\n",
       "TechSupport Yes                           -0.157688\n",
       "OnlineSecurity Yes                        -0.157688\n",
       "StreamingTV Yes                           -0.157688\n",
       "InternetService No                        -0.157688\n",
       "DeviceProtection Yes                      -0.157688\n",
       "InternetService DSL                       -0.157688\n",
       "StreamingMovies Yes                       -0.149484\n",
       "PaperlessBilling Yes                      -0.130961\n",
       "PhoneService No                           -0.124959\n",
       "StreamingTV No internet service           -0.108622\n",
       "Contract One year                         -0.102716\n",
       "TechSupport No internet service           -0.090328\n",
       "PaperlessBilling No                       -0.075798\n",
       "Dependents No                             -0.065698\n",
       "TechSupport No                            -0.047852\n",
       "PhoneService Yes                          -0.027653\n",
       "Dependent Yes                             -0.027653\n",
       "SeniorCitizen                             -0.024429\n",
       "PaymentMethod Credit card (automatic)     -0.021651\n",
       "gneder Male                               -0.014147\n",
       "OnlineSecurity No                         -0.012089\n",
       "gender Female                              0.014147\n",
       "OnlineBackup No internet service           0.021624\n",
       "Partner No                                 0.024429\n",
       "tenure                                     0.027653\n",
       "Contract Month-to-month                    0.033498\n",
       "PaymentMethod Electronic check             0.056811\n",
       "Partner Yes                                0.065698\n",
       "OnlineSecurity No internet service         0.071417\n",
       "OnlineBackup No                            0.086271\n",
       "Contract Two year                          0.102716\n",
       "StreamingMovies No internet service        0.115986\n",
       "DeviceProtection No                        0.136064\n",
       "MultipleLines No                           0.152611\n",
       "InternetService Fiber optic                0.169777\n",
       "DeviceProtection No internet service       0.205540\n",
       "PaymentMethod Bank transfer (automatic)    0.228409\n",
       "StreamingTV No                             0.248016\n",
       "StreamingMovies No                         0.266310\n",
       "MultipleLines Yes                          0.895547\n",
       "dtype: float64"
      ]
     },
     "execution_count": 44,
     "metadata": {},
     "output_type": "execute_result"
    }
   ],
   "source": [
    "#To get the weights of all the variables\n",
    "X_features = ['gender Female', 'gneder Male','SeniorCitizen', 'Partner No', 'Partner Yes', \n",
    "              'Dependents No', 'Dependent Yes', 'tenure', 'PhoneService No', 'PhoneService Yes',\n",
    "              'MultipleLines No', 'MultipleLines No Internet Service', 'MultipleLines Yes', \n",
    "              'InternetService DSL', 'InternetService Fiber optic', 'InternetService No', \n",
    "              'OnlineSecurity No', 'OnlineSecurity No internet service', 'OnlineSecurity Yes', \n",
    "              'OnlineBackup No', 'OnlineBackup No internet service', 'OnlineBackup Yes',\n",
    "              'DeviceProtection No', 'DeviceProtection No internet service', 'DeviceProtection Yes',\n",
    "              'TechSupport No', 'TechSupport No internet service', 'TechSupport Yes', \n",
    "              'StreamingTV No', 'StreamingTV No internet service', 'StreamingTV Yes',\n",
    "              'StreamingMovies No', 'StreamingMovies No internet service', 'StreamingMovies Yes',\n",
    "              'Contract Month-to-month', 'Contract One year', 'Contract Two year',\n",
    "              'PaperlessBilling No', 'PaperlessBilling Yes','PaymentMethod Bank transfer (automatic)', \n",
    "              'PaymentMethod Credit card (automatic)', 'PaymentMethod Electronic check', \n",
    "              'PaymentMethod Mailed check', 'MonthlyCharges', 'TotalCharges']\n",
    "weights = pd.Series(pipeline_svm.named_steps['model_svm'].coef_[0],\n",
    "                   index=X_features)\n",
    "weights.sort_values()"
   ]
  },
  {
   "cell_type": "markdown",
   "metadata": {},
   "source": [
    "#### Explanation\n",
    "    Churn quantifies the number of customers who have unsubscribed or canceled their service contract. It can be observed that some features have positive relation with our predicted variable and some have negative relation. The positive realtion to churn means customrs having this type of attributes are likely to churn while neagtive ralation means customers are less likely to end the service. \n",
    "    customerts with following attribute are less likey to end the service:\n",
    "                    MultipleLines 'No Internet Service'         -0.737859\n",
    "                    MonthlyCharges                              -0.480970\n",
    "                    TotalCharges                                -0.449911\n",
    "                    PaymentMethod 'Mailed check'                -0.380860\n",
    "                    OnlineBackup 'Yes'                          -0.157688\n",
    "                    TechSupport 'Yes'                           -0.157688\n",
    "                    OnlineSecurity 'Yes'                        -0.157688\n",
    "                    StreamingTV 'Yes'                           -0.157688\n",
    "                    InternetService 'No'                        -0.157688\n",
    "                    DeviceProtection 'Yes'                      -0.157688\n",
    "                    InternetService 'DSL'                       -0.157688\n",
    "                    StreamingMovies 'Yes'                       -0.149484\n",
    "                    PaperlessBilling 'Yes'                      -0.130961\n",
    "                    PhoneService 'No'                           -0.124959\n",
    "                    StreamingTV 'No internet service'           -0.108622\n",
    "                    Contract 'One year'                         -0.102716\n",
    "                    TechSupport 'No internet service'           -0.090328\n",
    "                    PaperlessBilling 'No'                       -0.075798\n",
    "                    Dependents 'No'                             -0.065698\n",
    "                    TechSupport 'No'                            -0.047852\n",
    "                    PhoneService 'Yes'                          -0.027653\n",
    "                    Dependent 'Yes'                             -0.027653\n",
    "                    SeniorCitizen                               -0.024429\n",
    "                    PaymentMethod 'Credit card (automatic)'     -0.021651\n",
    "                    gneder 'Male'                               -0.014147\n",
    "                    OnlineSecurity 'No'                         -0.012089"
   ]
  }
 ],
 "metadata": {
  "kernelspec": {
   "display_name": "Python 3",
   "language": "python",
   "name": "python3"
  },
  "language_info": {
   "codemirror_mode": {
    "name": "ipython",
    "version": 3
   },
   "file_extension": ".py",
   "mimetype": "text/x-python",
   "name": "python",
   "nbconvert_exporter": "python",
   "pygments_lexer": "ipython3",
   "version": "3.7.4"
  }
 },
 "nbformat": 4,
 "nbformat_minor": 2
}
