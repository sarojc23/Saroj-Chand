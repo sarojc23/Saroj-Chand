{
 "cells": [
  {
   "cell_type": "markdown",
   "metadata": {},
   "source": [
    "# Week 4 Homework"
   ]
  },
  {
   "cell_type": "code",
   "execution_count": 19,
   "metadata": {},
   "outputs": [],
   "source": [
    "import numpy as np \n",
    "import pandas as pd \n",
    "import matplotlib.pyplot as plt\n",
    "import imblearn # imbalance library for oversamplinga and undersampling\n",
    "%matplotlib inline"
   ]
  },
  {
   "cell_type": "code",
   "execution_count": 20,
   "metadata": {
    "scrolled": true
   },
   "outputs": [
    {
     "data": {
      "text/html": [
       "<div>\n",
       "<style scoped>\n",
       "    .dataframe tbody tr th:only-of-type {\n",
       "        vertical-align: middle;\n",
       "    }\n",
       "\n",
       "    .dataframe tbody tr th {\n",
       "        vertical-align: top;\n",
       "    }\n",
       "\n",
       "    .dataframe thead th {\n",
       "        text-align: right;\n",
       "    }\n",
       "</style>\n",
       "<table border=\"1\" class=\"dataframe\">\n",
       "  <thead>\n",
       "    <tr style=\"text-align: right;\">\n",
       "      <th></th>\n",
       "      <th>default</th>\n",
       "      <th>student</th>\n",
       "      <th>balance</th>\n",
       "      <th>income</th>\n",
       "    </tr>\n",
       "  </thead>\n",
       "  <tbody>\n",
       "    <tr>\n",
       "      <td>1</td>\n",
       "      <td>No</td>\n",
       "      <td>No</td>\n",
       "      <td>729.526495</td>\n",
       "      <td>44361.625074</td>\n",
       "    </tr>\n",
       "    <tr>\n",
       "      <td>2</td>\n",
       "      <td>No</td>\n",
       "      <td>Yes</td>\n",
       "      <td>817.180407</td>\n",
       "      <td>12106.134700</td>\n",
       "    </tr>\n",
       "    <tr>\n",
       "      <td>3</td>\n",
       "      <td>No</td>\n",
       "      <td>No</td>\n",
       "      <td>1073.549164</td>\n",
       "      <td>31767.138947</td>\n",
       "    </tr>\n",
       "    <tr>\n",
       "      <td>4</td>\n",
       "      <td>No</td>\n",
       "      <td>No</td>\n",
       "      <td>529.250605</td>\n",
       "      <td>35704.493935</td>\n",
       "    </tr>\n",
       "    <tr>\n",
       "      <td>5</td>\n",
       "      <td>No</td>\n",
       "      <td>No</td>\n",
       "      <td>785.655883</td>\n",
       "      <td>38463.495879</td>\n",
       "    </tr>\n",
       "  </tbody>\n",
       "</table>\n",
       "</div>"
      ],
      "text/plain": [
       "  default student      balance        income\n",
       "1      No      No   729.526495  44361.625074\n",
       "2      No     Yes   817.180407  12106.134700\n",
       "3      No      No  1073.549164  31767.138947\n",
       "4      No      No   529.250605  35704.493935\n",
       "5      No      No   785.655883  38463.495879"
      ]
     },
     "execution_count": 20,
     "metadata": {},
     "output_type": "execute_result"
    }
   ],
   "source": [
    "# importing data\n",
    "url = \"https://github.com/JWarmenhoven/ISLR-python/blob/master/Notebooks/Data/Default.xlsx?raw=true\"\n",
    "df = pd.read_excel(url, index_col=0)\n",
    "df.head()"
   ]
  },
  {
   "cell_type": "code",
   "execution_count": 9,
   "metadata": {
    "scrolled": false
   },
   "outputs": [
    {
     "data": {
      "text/html": [
       "<div>\n",
       "<style scoped>\n",
       "    .dataframe tbody tr th:only-of-type {\n",
       "        vertical-align: middle;\n",
       "    }\n",
       "\n",
       "    .dataframe tbody tr th {\n",
       "        vertical-align: top;\n",
       "    }\n",
       "\n",
       "    .dataframe thead th {\n",
       "        text-align: right;\n",
       "    }\n",
       "</style>\n",
       "<table border=\"1\" class=\"dataframe\">\n",
       "  <thead>\n",
       "    <tr style=\"text-align: right;\">\n",
       "      <th></th>\n",
       "      <th>default</th>\n",
       "      <th>student</th>\n",
       "      <th>balance</th>\n",
       "      <th>income</th>\n",
       "    </tr>\n",
       "  </thead>\n",
       "  <tbody>\n",
       "    <tr>\n",
       "      <td>1</td>\n",
       "      <td>0</td>\n",
       "      <td>0</td>\n",
       "      <td>729.526495</td>\n",
       "      <td>44361.625074</td>\n",
       "    </tr>\n",
       "    <tr>\n",
       "      <td>2</td>\n",
       "      <td>0</td>\n",
       "      <td>1</td>\n",
       "      <td>817.180407</td>\n",
       "      <td>12106.134700</td>\n",
       "    </tr>\n",
       "    <tr>\n",
       "      <td>3</td>\n",
       "      <td>0</td>\n",
       "      <td>0</td>\n",
       "      <td>1073.549164</td>\n",
       "      <td>31767.138947</td>\n",
       "    </tr>\n",
       "    <tr>\n",
       "      <td>4</td>\n",
       "      <td>0</td>\n",
       "      <td>0</td>\n",
       "      <td>529.250605</td>\n",
       "      <td>35704.493935</td>\n",
       "    </tr>\n",
       "    <tr>\n",
       "      <td>5</td>\n",
       "      <td>0</td>\n",
       "      <td>0</td>\n",
       "      <td>785.655883</td>\n",
       "      <td>38463.495879</td>\n",
       "    </tr>\n",
       "  </tbody>\n",
       "</table>\n",
       "</div>"
      ],
      "text/plain": [
       "   default  student      balance        income\n",
       "1        0        0   729.526495  44361.625074\n",
       "2        0        1   817.180407  12106.134700\n",
       "3        0        0  1073.549164  31767.138947\n",
       "4        0        0   529.250605  35704.493935\n",
       "5        0        0   785.655883  38463.495879"
      ]
     },
     "execution_count": 9,
     "metadata": {},
     "output_type": "execute_result"
    }
   ],
   "source": [
    "#Convert Yes and No to 1 and 0\n",
    "def convert_yes2no(x):\n",
    "    if x == \"Yes\":\n",
    "        return 1\n",
    "    elif x == \"No\":\n",
    "        return 0\n",
    "    else:\n",
    "        return x\n",
    "df['default'] = df['default'].apply(convert_yes2no)\n",
    "df['student'] = df['student'].apply(convert_yes2no)\n",
    "df.head()"
   ]
  },
  {
   "cell_type": "markdown",
   "metadata": {},
   "source": [
    "# 1. statified sampling"
   ]
  },
  {
   "cell_type": "code",
   "execution_count": 10,
   "metadata": {
    "scrolled": true
   },
   "outputs": [
    {
     "name": "stdout",
     "output_type": "stream",
     "text": [
      "0    5801\n",
      "1     199\n",
      "Name: default, dtype: int64\n",
      "0    1933\n",
      "1      67\n",
      "Name: default, dtype: int64\n",
      "0    1933\n",
      "1      67\n",
      "Name: default, dtype: int64\n"
     ]
    }
   ],
   "source": [
    "# split data into test, train and validate\n",
    "df_train, df_validate, df_test = np.split(df, [int(.6*len(df)),int(.8*len(df))])\n",
    "print(df_train['default'].value_counts())\n",
    "print(df_validate['default'].value_counts())\n",
    "print(df_test['default'].value_counts())"
   ]
  },
  {
   "cell_type": "markdown",
   "metadata": {},
   "source": [
    "# 2. Augment data with oversampling"
   ]
  },
  {
   "cell_type": "code",
   "execution_count": 12,
   "metadata": {},
   "outputs": [],
   "source": [
    "#Random OverSampling\n",
    "from collections import Counter\n",
    "from sklearn.datasets import make_classification\n",
    "from imblearn.over_sampling import RandomOverSampler"
   ]
  },
  {
   "cell_type": "code",
   "execution_count": 13,
   "metadata": {},
   "outputs": [],
   "source": [
    "#over sampling Strategy\n",
    "oversample = RandomOverSampler(sampling_strategy = 'minority')\n",
    "#df_train['student','balance','income'],df_train_over = make_classification(n_samples=6000, n_features = 3, n_informative = 1, n_classes = 2, n_clusters_per_class = 1)\n",
    "X = df_train[['income','balance','student']]\n",
    "y = df_train['default']\n",
    "\n",
    "#fit and apply the transform\n",
    "X_over, y_over = oversample.fit_resample(X,y)\n"
   ]
  },
  {
   "cell_type": "code",
   "execution_count": 22,
   "metadata": {},
   "outputs": [
    {
     "data": {
      "text/html": [
       "<div>\n",
       "<style scoped>\n",
       "    .dataframe tbody tr th:only-of-type {\n",
       "        vertical-align: middle;\n",
       "    }\n",
       "\n",
       "    .dataframe tbody tr th {\n",
       "        vertical-align: top;\n",
       "    }\n",
       "\n",
       "    .dataframe thead th {\n",
       "        text-align: right;\n",
       "    }\n",
       "</style>\n",
       "<table border=\"1\" class=\"dataframe\">\n",
       "  <thead>\n",
       "    <tr style=\"text-align: right;\">\n",
       "      <th></th>\n",
       "      <th>income</th>\n",
       "      <th>balance</th>\n",
       "      <th>student</th>\n",
       "      <th>default</th>\n",
       "    </tr>\n",
       "  </thead>\n",
       "  <tbody>\n",
       "    <tr>\n",
       "      <td>0</td>\n",
       "      <td>44361.625074</td>\n",
       "      <td>729.526495</td>\n",
       "      <td>0.0</td>\n",
       "      <td>0</td>\n",
       "    </tr>\n",
       "    <tr>\n",
       "      <td>1</td>\n",
       "      <td>12106.134700</td>\n",
       "      <td>817.180407</td>\n",
       "      <td>1.0</td>\n",
       "      <td>0</td>\n",
       "    </tr>\n",
       "    <tr>\n",
       "      <td>2</td>\n",
       "      <td>31767.138947</td>\n",
       "      <td>1073.549164</td>\n",
       "      <td>0.0</td>\n",
       "      <td>0</td>\n",
       "    </tr>\n",
       "    <tr>\n",
       "      <td>3</td>\n",
       "      <td>35704.493935</td>\n",
       "      <td>529.250605</td>\n",
       "      <td>0.0</td>\n",
       "      <td>0</td>\n",
       "    </tr>\n",
       "    <tr>\n",
       "      <td>4</td>\n",
       "      <td>38463.495879</td>\n",
       "      <td>785.655883</td>\n",
       "      <td>0.0</td>\n",
       "      <td>0</td>\n",
       "    </tr>\n",
       "  </tbody>\n",
       "</table>\n",
       "</div>"
      ],
      "text/plain": [
       "         income      balance  student  default\n",
       "0  44361.625074   729.526495      0.0        0\n",
       "1  12106.134700   817.180407      1.0        0\n",
       "2  31767.138947  1073.549164      0.0        0\n",
       "3  35704.493935   529.250605      0.0        0\n",
       "4  38463.495879   785.655883      0.0        0"
      ]
     },
     "execution_count": 22,
     "metadata": {},
     "output_type": "execute_result"
    }
   ],
   "source": [
    "#convering to a single dataframe\n",
    "df_train_X_over = pd.DataFrame(data = X_over, columns = ['income','balance','student'])\n",
    "df_train_y_over =  pd.DataFrame(data = y_over, columns = ['default'])\n",
    "df_train_over = df_train_X_over.assign(default = df_train_y_over)\n",
    "df_train_over.head()"
   ]
  },
  {
   "cell_type": "markdown",
   "metadata": {},
   "source": [
    "# 3. Augment data with undersampling"
   ]
  },
  {
   "cell_type": "code",
   "execution_count": 23,
   "metadata": {},
   "outputs": [],
   "source": [
    "# under sampling Strategy\n",
    "from imblearn.under_sampling import RandomUnderSampler\n",
    "undersample = RandomUnderSampler(sampling_strategy = 'majority')\n",
    "X = df_train[['income','balance','student']]\n",
    "y = df_train['default']\n",
    "\n",
    "#fit and apply the transform\n",
    "X_under, y_under = undersample.fit_resample(X,y)"
   ]
  },
  {
   "cell_type": "code",
   "execution_count": 24,
   "metadata": {},
   "outputs": [
    {
     "data": {
      "text/html": [
       "<div>\n",
       "<style scoped>\n",
       "    .dataframe tbody tr th:only-of-type {\n",
       "        vertical-align: middle;\n",
       "    }\n",
       "\n",
       "    .dataframe tbody tr th {\n",
       "        vertical-align: top;\n",
       "    }\n",
       "\n",
       "    .dataframe thead th {\n",
       "        text-align: right;\n",
       "    }\n",
       "</style>\n",
       "<table border=\"1\" class=\"dataframe\">\n",
       "  <thead>\n",
       "    <tr style=\"text-align: right;\">\n",
       "      <th></th>\n",
       "      <th>income</th>\n",
       "      <th>balance</th>\n",
       "      <th>student</th>\n",
       "      <th>default</th>\n",
       "    </tr>\n",
       "  </thead>\n",
       "  <tbody>\n",
       "    <tr>\n",
       "      <td>0</td>\n",
       "      <td>28521.366885</td>\n",
       "      <td>4.712142</td>\n",
       "      <td>0.0</td>\n",
       "      <td>0</td>\n",
       "    </tr>\n",
       "    <tr>\n",
       "      <td>1</td>\n",
       "      <td>54335.224100</td>\n",
       "      <td>569.790873</td>\n",
       "      <td>0.0</td>\n",
       "      <td>0</td>\n",
       "    </tr>\n",
       "    <tr>\n",
       "      <td>2</td>\n",
       "      <td>30067.410647</td>\n",
       "      <td>1314.765205</td>\n",
       "      <td>0.0</td>\n",
       "      <td>0</td>\n",
       "    </tr>\n",
       "    <tr>\n",
       "      <td>3</td>\n",
       "      <td>37074.061367</td>\n",
       "      <td>1116.065771</td>\n",
       "      <td>0.0</td>\n",
       "      <td>0</td>\n",
       "    </tr>\n",
       "    <tr>\n",
       "      <td>4</td>\n",
       "      <td>19318.059334</td>\n",
       "      <td>703.838766</td>\n",
       "      <td>1.0</td>\n",
       "      <td>0</td>\n",
       "    </tr>\n",
       "  </tbody>\n",
       "</table>\n",
       "</div>"
      ],
      "text/plain": [
       "         income      balance  student  default\n",
       "0  28521.366885     4.712142      0.0        0\n",
       "1  54335.224100   569.790873      0.0        0\n",
       "2  30067.410647  1314.765205      0.0        0\n",
       "3  37074.061367  1116.065771      0.0        0\n",
       "4  19318.059334   703.838766      1.0        0"
      ]
     },
     "execution_count": 24,
     "metadata": {},
     "output_type": "execute_result"
    }
   ],
   "source": [
    "# convering to asinlge dataframe\n",
    "df_train_X_under = pd.DataFrame(data = X_under, columns = ['income','balance','student'])\n",
    "df_train_y_under =  pd.DataFrame(data = y_under, columns = ['default'])\n",
    "df_train_under = df_train_X_under.assign(default = df_train_y_under)\n",
    "df_train_under.head()"
   ]
  },
  {
   "cell_type": "markdown",
   "metadata": {},
   "source": [
    "# 4. Training data "
   ]
  },
  {
   "cell_type": "markdown",
   "metadata": {},
   "source": [
    "- df_train"
   ]
  },
  {
   "cell_type": "code",
   "execution_count": 27,
   "metadata": {
    "scrolled": true
   },
   "outputs": [
    {
     "name": "stdout",
     "output_type": "stream",
     "text": [
      "LogisticRegression(C=1.0, class_weight=None, dual=False, fit_intercept=True,\n",
      "                   intercept_scaling=1, l1_ratio=None, max_iter=100,\n",
      "                   multi_class='warn', n_jobs=None, penalty='none',\n",
      "                   random_state=None, solver='newton-cg', tol=0.0001, verbose=0,\n",
      "                   warm_start=False)\n",
      "classes:  [0 1]\n",
      "coefficients:  [[ 5.73512809e-03  5.34865851e-06 -6.19140023e-01]]\n",
      "intercept : [-10.91078838]\n"
     ]
    }
   ],
   "source": [
    "# Use sklearn\n",
    "from sklearn.linear_model import LogisticRegression\n",
    "import warnings\n",
    "warnings.filterwarnings('ignore')\n",
    "clf_train = LogisticRegression(penalty='none',solver='newton-cg')\n",
    "clf_train.fit(df_train[['balance', 'income', 'student']],df_train['default'])\n",
    "print(clf_train)\n",
    "print('classes: ',clf_train.classes_)\n",
    "print('coefficients: ',clf_train.coef_)\n",
    "print('intercept :', clf_train.intercept_)"
   ]
  },
  {
   "cell_type": "markdown",
   "metadata": {},
   "source": [
    "- df_train_over"
   ]
  },
  {
   "cell_type": "code",
   "execution_count": 29,
   "metadata": {},
   "outputs": [
    {
     "name": "stdout",
     "output_type": "stream",
     "text": [
      "LogisticRegression(C=1.0, class_weight=None, dual=False, fit_intercept=True,\n",
      "                   intercept_scaling=1, l1_ratio=None, max_iter=100,\n",
      "                   multi_class='warn', n_jobs=None, penalty='none',\n",
      "                   random_state=None, solver='newton-cg', tol=0.0001, verbose=0,\n",
      "                   warm_start=False)\n",
      "classes:  [0 1]\n",
      "coefficients:  [[ 5.76588813e-03 -1.13679197e-07 -7.64075707e-01]]\n",
      "intercept : [-7.33354857]\n"
     ]
    }
   ],
   "source": [
    "clf_train_over = LogisticRegression(penalty='none',solver='newton-cg')\n",
    "clf_train_over.fit(df_train_over[['balance', 'income', 'student']],df_train_over['default'])\n",
    "print(clf_train_over)\n",
    "print('classes: ',clf_train_over.classes_)\n",
    "print('coefficients: ',clf_train_over.coef_)\n",
    "print('intercept :', clf_train_over.intercept_)"
   ]
  },
  {
   "cell_type": "markdown",
   "metadata": {},
   "source": [
    "- df_train_under"
   ]
  },
  {
   "cell_type": "code",
   "execution_count": 28,
   "metadata": {},
   "outputs": [
    {
     "name": "stdout",
     "output_type": "stream",
     "text": [
      "LogisticRegression(C=1.0, class_weight=None, dual=False, fit_intercept=True,\n",
      "                   intercept_scaling=1, l1_ratio=None, max_iter=100,\n",
      "                   multi_class='warn', n_jobs=None, penalty='none',\n",
      "                   random_state=None, solver='newton-cg', tol=0.0001, verbose=0,\n",
      "                   warm_start=False)\n",
      "classes:  [0 1]\n",
      "coefficients:  [[ 5.67319905e-03 -1.19201105e-05 -9.21789201e-01]]\n",
      "intercept : [-6.86116909]\n"
     ]
    }
   ],
   "source": [
    "clf_train_under = LogisticRegression(penalty='none',solver='newton-cg')\n",
    "clf_train_under.fit(df_train_under[['balance', 'income', 'student']],df_train_under['default'])\n",
    "print(clf_train_under)\n",
    "print('classes: ',clf_train_under.classes_)\n",
    "print('coefficients: ',clf_train_under.coef_)\n",
    "print('intercept :', clf_train_under.intercept_)"
   ]
  },
  {
   "cell_type": "markdown",
   "metadata": {},
   "source": [
    "# 5. confusion matrix, precesion score, and recall score on  validate data"
   ]
  },
  {
   "cell_type": "code",
   "execution_count": 30,
   "metadata": {},
   "outputs": [],
   "source": [
    "# validating data\n",
    "y_predict_train = clf_train.predict(df_validate[['balance', 'income', 'student']])\n",
    "y_predict_over = clf_train_over.predict(df_validate[['balance', 'income', 'student']])\n",
    "y_predict_under = clf_train_under.predict(df_validate[['balance', 'income', 'student']])"
   ]
  },
  {
   "cell_type": "code",
   "execution_count": 31,
   "metadata": {
    "scrolled": true
   },
   "outputs": [
    {
     "name": "stdout",
     "output_type": "stream",
     "text": [
      "26\n",
      "342\n",
      "199\n"
     ]
    }
   ],
   "source": [
    "print(np.count_nonzero(y_predict_train))\n",
    "print(np.count_nonzero(y_predict_over))\n",
    "print(np.count_nonzero(y_under))"
   ]
  },
  {
   "cell_type": "markdown",
   "metadata": {},
   "source": [
    "- confusion matrix, precesion score, and recall score for df_train"
   ]
  },
  {
   "cell_type": "code",
   "execution_count": 33,
   "metadata": {},
   "outputs": [
    {
     "name": "stdout",
     "output_type": "stream",
     "text": [
      "Confusion matrix elements are 18 8 1925 49\n",
      "precesion score is 0.6923076923076923\n",
      "recall score is 0.26865671641791045\n"
     ]
    }
   ],
   "source": [
    "# \n",
    "y_validate = df_validate['default'].values\n",
    "TP = 0\n",
    "FP = 0\n",
    "TN = 0\n",
    "FN = 0\n",
    "\n",
    "for i in range(len(y_predict_train)): \n",
    "    if y_validate[i]==y_predict_train[i]==1:\n",
    "           TP += 1\n",
    "    if y_predict_train[i]==1 and y_validate[i]!=y_predict_train[i]:\n",
    "           FP += 1\n",
    "    if y_validate[i]==y_predict_train[i]==0:\n",
    "           TN += 1\n",
    "    if y_predict_train[i]==0 and y_validate[i]!=y_predict_train[i]:\n",
    "           FN += 1\n",
    "\n",
    "print('Confusion matrix elements are', TP,FP,TN,FN)\n",
    "#precision score\n",
    "PPV = TP/(TP + FP )\n",
    "print('precesion score is', PPV)\n",
    "#recall score\n",
    "TPR = TP/(TP + FN)\n",
    "print('recall score is', TPR)"
   ]
  },
  {
   "cell_type": "markdown",
   "metadata": {},
   "source": [
    "- confusion matrix, precesion score, and recall score for df_train_over"
   ]
  },
  {
   "cell_type": "code",
   "execution_count": 38,
   "metadata": {},
   "outputs": [
    {
     "name": "stdout",
     "output_type": "stream",
     "text": [
      "confusion matrix elements are  18 281 1652 6\n",
      "precesion score is 0.06020066889632107\n",
      "recall score is 0.75\n"
     ]
    }
   ],
   "source": [
    "#\n",
    "TP = 0\n",
    "FP = 0\n",
    "TN = 0\n",
    "FN = 0\n",
    "\n",
    "for i in range(len(y_predict_train)): \n",
    "    if y_validate[i]==y_predict_train[i]==1:\n",
    "           TP += 1\n",
    "    if y_predict_over[i]==1 and y_validate[i]!=y_predict_over[i]:\n",
    "           FP += 1\n",
    "    if y_validate[i]==y_predict_over[i]==0:\n",
    "           TN += 1\n",
    "    if y_predict_over[i]==0 and y_validate[i]!=y_predict_over[i]:\n",
    "           FN += 1\n",
    "\n",
    "print('confusion matrix elements are ',TP,FP,TN,FN)\n",
    "#precision score\n",
    "PPV = TP/(TP + FP )\n",
    "print('precesion score is', PPV)\n",
    "#recall score\n",
    "TPR = TP/(TP + FN)\n",
    "print('recall score is', TPR)"
   ]
  },
  {
   "cell_type": "markdown",
   "metadata": {},
   "source": [
    "- confusion matrix, precesion score, and recall score for df_train_under"
   ]
  },
  {
   "cell_type": "code",
   "execution_count": 39,
   "metadata": {
    "scrolled": true
   },
   "outputs": [
    {
     "name": "stdout",
     "output_type": "stream",
     "text": [
      "confusion matrix elements are 18 261 1672 6\n",
      "precesion score is 0.06451612903225806\n",
      "recall score is 0.75\n"
     ]
    }
   ],
   "source": [
    "TP = 0\n",
    "FP = 0\n",
    "TN = 0\n",
    "FN = 0\n",
    "\n",
    "for i in range(len(y_predict_train)): \n",
    "    if y_validate[i]==y_predict_train[i]==1:\n",
    "           TP += 1\n",
    "    if y_predict_under[i]==1 and y_validate[i]!=y_predict_under[i]:\n",
    "           FP += 1\n",
    "    if y_validate[i]==y_predict_under[i]==0:\n",
    "           TN += 1\n",
    "    if y_predict_under[i]==0 and y_validate[i]!=y_predict_under[i]:\n",
    "           FN += 1\n",
    "\n",
    "print('confusion matrix elements are',TP,FP,TN,FN)\n",
    "#precision score\n",
    "PPV = TP/(TP + FP )\n",
    "print('precesion score is', PPV)\n",
    "#recall score\n",
    "TPR = TP/(TP + FN)\n",
    "print('recall score is', TPR)"
   ]
  },
  {
   "cell_type": "markdown",
   "metadata": {},
   "source": [
    "# Chosing Best Model:\n",
    "    In machinc learning, Confusion matric basically give visulization of error in supervised learning. Here, we see that precesion score is very low and recall score is very high for both 'df_train_under' and 'df_train_over'. While precison score camparatively high and recall score is low for 'df_train'. Oversmapling and undersampling involve an introduction of a bias to select data from one class over another, to compensate the imbalance present in the data. The precesion score and recall score show that 'logistic regression' donot have any benefits from balancing data, which might be good for other machine learning techniques like 'neural network' training. \n",
    "    So the best model here is sratified random sampling.\n",
    "    "
   ]
  },
  {
   "cell_type": "markdown",
   "metadata": {},
   "source": [
    "# 6. Applying best model to calculate confusion matrix, precesion score, and recall score on test data"
   ]
  },
  {
   "cell_type": "code",
   "execution_count": 37,
   "metadata": {},
   "outputs": [],
   "source": [
    "#validating data\n",
    "y_predict_test = clf_train.predict(df_test[['balance', 'income', 'student']])\n",
    "y_test = df_test['default'].values"
   ]
  },
  {
   "cell_type": "code",
   "execution_count": 71,
   "metadata": {},
   "outputs": [
    {
     "name": "stdout",
     "output_type": "stream",
     "text": [
      "24 10 1923 43\n",
      "precesion score is 0.7058823529411765\n",
      "recall score is 0.3582089552238806\n"
     ]
    }
   ],
   "source": [
    "TP = 0\n",
    "FP = 0\n",
    "TN = 0\n",
    "FN = 0\n",
    "\n",
    "for i in range(len(y_predict_test)): \n",
    "    if y_test[i]==y_predict_test[i]==1:\n",
    "           TP += 1\n",
    "    if y_predict_test[i]==1 and y_test[i]!=y_predict_test[i]:\n",
    "           FP += 1\n",
    "    if y_test[i]==y_predict_test[i]==0:\n",
    "           TN += 1\n",
    "    if y_predict_test[i]==0 and y_test[i]!=y_predict_test[i]:\n",
    "           FN += 1\n",
    "\n",
    "print(confudiTP,FP,TN,FN)\n",
    "#precision score\n",
    "PPV = TP/(TP + FP )\n",
    "print('precesion score is', PPV)\n",
    "#recall score\n",
    "TPR = TP/(TP + FN)\n",
    "print('recall score is', TPR)"
   ]
  },
  {
   "cell_type": "markdown",
   "metadata": {},
   "source": [
    "    The precesion score and recall scores for 'df_test' are close to the 'df_validate' which make sense becasue these data sets are obtained by randomly stratified sampdling."
   ]
  },
  {
   "cell_type": "code",
   "execution_count": null,
   "metadata": {},
   "outputs": [],
   "source": []
  }
 ],
 "metadata": {
  "kernelspec": {
   "display_name": "Python 3",
   "language": "python",
   "name": "python3"
  },
  "language_info": {
   "codemirror_mode": {
    "name": "ipython",
    "version": 3
   },
   "file_extension": ".py",
   "mimetype": "text/x-python",
   "name": "python",
   "nbconvert_exporter": "python",
   "pygments_lexer": "ipython3",
   "version": "3.7.4"
  }
 },
 "nbformat": 4,
 "nbformat_minor": 2
}
